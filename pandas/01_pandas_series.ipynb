{
 "cells": [
  {
   "cell_type": "markdown",
   "id": "fd51e25e",
   "metadata": {},
   "source": [
    "## Pandas \n",
    "\n",
    "- series, DataFrame등의 자료구조를 활용한 데이터분석 기능을 제공해주는 라이브러리\n",
    "- 라이브러리 구성\n",
    "    - 여러종류의 클래스와 다양한 함수로 구성\n",
    "    - 시리즈와 데이터 프레임의 자료 구조 제공\n",
    "    - 시리즈(1차원 배열) 데이터 프레임(2차원 배열)\n",
    "\n",
    "## Pandas 목적\n",
    "- 서로 다른 유형의 데이터를 공통된 포맷으로 정리하는 것 (클래스 형태로 구성되어 있음)\n",
    "- 행과 열로 이루어진 2차원 데이터프레임을 처리 할 수 있는 함수제공 목적\n",
    "- 실무 사용 형태 : 데이터 프레임 (2차원의 행렬로 구성되어 있음) \n"
   ]
  },
  {
   "cell_type": "markdown",
   "id": "c22f156a",
   "metadata": {},
   "source": [
    "## 구조적 데이터 생성 종류\n",
    "- Series : 1차원 배열\n",
    "- DataFrame : 2차원 배열"
   ]
  },
  {
   "cell_type": "markdown",
   "id": "c4d9e89d",
   "metadata": {},
   "source": [
    "## Series\n",
    "  - pandas에서 제공하는 자료구조\n",
    "  - pandas의 기본 객체 중 하나\n",
    "  - numpy의 ndarray를 기반으로 인덱싱을 기능을 추가하여 1차원 배열을 나타냄\n",
    "  - index를 지정하지 않을 시, 기본적으로 ndarray와 같이 0-based 인덱스 생성 (0,1,2,3,...)\n",
    "  - 지정할 경우 명시적으로 지정된 index를 사용\n",
    "  - 동일한 data type만 가질 수 있음 \n",
    "      - ex) 문자열이 섞여 있으면 모두 문자열 처리 / int와 float 섞여 있으면 float 처리\n"
   ]
  },
  {
   "cell_type": "markdown",
   "id": "c3b29fdb",
   "metadata": {},
   "source": [
    "1. 자료구조: 시리즈\n",
    "    - 데이터가 순차적으로 나열된 1차원 배열 형태\n",
    "    - 인덱스(index)와 데이터 값(value)이 일대일로 대응\n",
    "    - 딕셔너리와 비슷한 구조 : {key(index):value}\n",
    "    \n",
    "    \n",
    "2. 시리즈의 인덱스\n",
    "    - 데이터 값의 위치를 나타내는 이름표 역할\n",
    "    \n",
    "    \n",
    "3. 시리즈 생성 : 판다스 내장함수인 Series()이용\n",
    "    - 리스트로 시리즈 만들기\n",
    "    - 딕셔너리로 시리즈 만들기\n",
    "    - 튜플로 시리즈 만들기\n"
   ]
  },
  {
   "cell_type": "code",
   "execution_count": 10,
   "id": "8a605d85",
   "metadata": {},
   "outputs": [],
   "source": [
    "#pandas 사용하기 위해서는 모듈을 import 해야함\n",
    "\n",
    "import pandas as pd#대부분의 코드에서 pandas pd 라는 별칭으로 사용\n",
    "import numpy as np # numpy 패키지 import 판다를 같이 많이 사용함"
   ]
  },
  {
   "cell_type": "code",
   "execution_count": 85,
   "id": "e524ba4e",
   "metadata": {},
   "outputs": [],
   "source": [
    "from IPython.core.interactiveshell import InteractiveShell\n",
    "InteractiveShell.ast_node_interactivity=\"all\""
   ]
  },
  {
   "cell_type": "markdown",
   "id": "d1ddc610",
   "metadata": {},
   "source": [
    "## Series 생성\n",
    "- index는 명시하지 않으면 0 부터 자동 생성\n",
    "- 2개 이상의 값 입력시 리스트/튜플/딕셔너리 형태로 입력"
   ]
  },
  {
   "cell_type": "code",
   "execution_count": 3,
   "id": "31075fdb",
   "metadata": {},
   "outputs": [
    {
     "name": "stderr",
     "output_type": "stream",
     "text": [
      "<ipython-input-3-8339411b7ad6>:2: DeprecationWarning: The default dtype for empty Series will be 'object' instead of 'float64' in a future version. Specify a dtype explicitly to silence this warning.\n",
      "  blank_s = pd.Series() # 사용할 값을 입력해야 함\n"
     ]
    },
    {
     "data": {
      "text/plain": [
       "Series([], dtype: float64)"
      ]
     },
     "execution_count": 3,
     "metadata": {},
     "output_type": "execute_result"
    }
   ],
   "source": [
    "#문법 : 변수 = pd.Series\n",
    "blank_s = pd.Series() # 사용할 값을 입력해야 함\n",
    "blank_s #dtype(data) : float64 시리즈님 모든 것을 다포함할 수 있는형태로 데이터 타입 선언"
   ]
  },
  {
   "cell_type": "code",
   "execution_count": 5,
   "id": "2cc6c367",
   "metadata": {},
   "outputs": [
    {
     "data": {
      "text/plain": [
       "0    1\n",
       "dtype: int64"
      ]
     },
     "execution_count": 5,
     "metadata": {},
     "output_type": "execute_result"
    }
   ],
   "source": [
    "s0 = pd.Series(1) #인덱스 명시하지 않고, 데이터 1개로 생성 -인덱스 0부터 시작하는 0-based 인덱스 생성\n",
    "s0 # 0:인덱스 1:입력값"
   ]
  },
  {
   "cell_type": "code",
   "execution_count": 6,
   "id": "a5ac2982",
   "metadata": {},
   "outputs": [
    {
     "data": {
      "text/plain": [
       "1"
      ]
     },
     "execution_count": 6,
     "metadata": {},
     "output_type": "execute_result"
    }
   ],
   "source": [
    "s0[0] # 0번 인덱스 원소값"
   ]
  },
  {
   "cell_type": "code",
   "execution_count": 8,
   "id": "97b55c89",
   "metadata": {},
   "outputs": [
    {
     "data": {
      "text/plain": [
       "0    1\n",
       "1    2\n",
       "2    3\n",
       "dtype: int64"
      ]
     },
     "execution_count": 8,
     "metadata": {},
     "output_type": "execute_result"
    }
   ],
   "source": [
    "# 2개 이상의 원소값을 갖는 시리즈 생성 시 - 리스트, 튜플, 딕셔너리 등을 활용해야 함\n",
    "s1 = pd.Series([1,2,3]) # 주는 값을 그냥 주면 안됨\n",
    "s1"
   ]
  },
  {
   "cell_type": "code",
   "execution_count": 9,
   "id": "98e2f24e",
   "metadata": {},
   "outputs": [
    {
     "data": {
      "text/plain": [
       "0    1.0\n",
       "1    2.0\n",
       "2    3.5\n",
       "dtype: float64"
      ]
     },
     "execution_count": 9,
     "metadata": {},
     "output_type": "execute_result"
    }
   ],
   "source": [
    "#서로 데이터 탑입의 원소를 갖는 리스트 이용 - 시리즈\n",
    "s1_1 = pd.Series([1,2.0,3.5])\n",
    "s1_1"
   ]
  },
  {
   "cell_type": "code",
   "execution_count": 10,
   "id": "5f0706ce",
   "metadata": {},
   "outputs": [
    {
     "data": {
      "text/plain": [
       "0      a\n",
       "1      1\n",
       "2    5.0\n",
       "dtype: object"
      ]
     },
     "execution_count": 10,
     "metadata": {},
     "output_type": "execute_result"
    }
   ],
   "source": [
    "s1_2 = pd.Series(['a',1,5.0]) # dtype: object : 숫자와 문자가 혼용되면 문자형태 원소로 시리즈를 만듬\n",
    "s1_2"
   ]
  },
  {
   "cell_type": "code",
   "execution_count": 11,
   "id": "1765e85a",
   "metadata": {},
   "outputs": [
    {
     "data": {
      "text/plain": [
       "0    1\n",
       "1    2\n",
       "2    3\n",
       "dtype: int64"
      ]
     },
     "execution_count": 11,
     "metadata": {},
     "output_type": "execute_result"
    }
   ],
   "source": [
    "# 튜플로 시리즈 만들기\n",
    "s1_3 = pd.Series((1,2,3))\n",
    "s1_3"
   ]
  },
  {
   "cell_type": "markdown",
   "id": "5a6fa7c9",
   "metadata": {},
   "source": [
    "## range로 시리즈의 value  생성 \n",
    "- range() / np.arange()"
   ]
  },
  {
   "cell_type": "code",
   "execution_count": 13,
   "id": "277094c6",
   "metadata": {
    "scrolled": true
   },
   "outputs": [
    {
     "data": {
      "text/plain": [
       "0    10\n",
       "1    11\n",
       "2    12\n",
       "3    13\n",
       "dtype: int64"
      ]
     },
     "execution_count": 13,
     "metadata": {},
     "output_type": "execute_result"
    }
   ],
   "source": [
    "s = pd.Series(range(10, 14))\n",
    "s"
   ]
  },
  {
   "cell_type": "code",
   "execution_count": 14,
   "id": "72b55768",
   "metadata": {},
   "outputs": [
    {
     "data": {
      "text/plain": [
       "0        0\n",
       "1        1\n",
       "2        2\n",
       "3        3\n",
       "4        4\n",
       "      ... \n",
       "195    195\n",
       "196    196\n",
       "197    197\n",
       "198    198\n",
       "199    199\n",
       "Length: 200, dtype: int32"
      ]
     },
     "execution_count": 14,
     "metadata": {},
     "output_type": "execute_result"
    }
   ],
   "source": [
    "s = pd.Series(np.arange(200)) ## 너무 많이 출력될 경우 중간값은 생략\n",
    "s"
   ]
  },
  {
   "cell_type": "code",
   "execution_count": null,
   "id": "8e225afe",
   "metadata": {},
   "outputs": [],
   "source": []
  },
  {
   "cell_type": "markdown",
   "id": "8bb7bc72",
   "metadata": {},
   "source": [
    "## 결측값\n",
    "- 값이 정해지지 않은 상태 NULL 의미\n",
    "- 결측값을 포함해서 시리즈를 생성\n",
    "    - 결측값은 NaN : numpy라는 모듈의 nan 속성을 통해서 생성 가능 -> na.nan"
   ]
  },
  {
   "cell_type": "code",
   "execution_count": 24,
   "id": "1ad9aca0",
   "metadata": {},
   "outputs": [
    {
     "data": {
      "text/plain": [
       "0    1.0\n",
       "1    2.0\n",
       "2    3.0\n",
       "3    NaN\n",
       "4    6.0\n",
       "5    8.0\n",
       "dtype: float64"
      ]
     },
     "execution_count": 24,
     "metadata": {},
     "output_type": "execute_result"
    }
   ],
   "source": [
    "s = pd.Series([1,2,3, np.nan,6,8]) #결측치 NaN은 float로 처리가 됨\n",
    "s"
   ]
  },
  {
   "cell_type": "markdown",
   "id": "a5cb28f9",
   "metadata": {},
   "source": [
    "## 시리즈에 인덱스 명시\n",
    "- 숫자 인덱스 지정.문자 인덱스 지정\n",
    "- 변수 = pd.Series([값1, 값2, ....], index = [인덱스1, 인덱스2, ...])"
   ]
  },
  {
   "cell_type": "code",
   "execution_count": 15,
   "id": "6a0b9104",
   "metadata": {
    "scrolled": true
   },
   "outputs": [
    {
     "data": {
      "text/plain": [
       "1    10\n",
       "2    20\n",
       "3    30\n",
       "dtype: int64"
      ]
     },
     "execution_count": 15,
     "metadata": {},
     "output_type": "execute_result"
    }
   ],
   "source": [
    "# 인덱스 명시해서 시리즈 생성 (수치 인덱스)\n",
    "s = pd.Series([10, 20, 30], index=[1,2,3])\n",
    "s"
   ]
  },
  {
   "cell_type": "code",
   "execution_count": 16,
   "id": "dad9ba9e",
   "metadata": {},
   "outputs": [
    {
     "data": {
      "text/plain": [
       "Int64Index([1, 2, 3], dtype='int64')"
      ]
     },
     "execution_count": 16,
     "metadata": {},
     "output_type": "execute_result"
    }
   ],
   "source": [
    "s.index #인덱스 확인 해보기"
   ]
  },
  {
   "cell_type": "code",
   "execution_count": 17,
   "id": "a568e0f7",
   "metadata": {},
   "outputs": [
    {
     "data": {
      "text/plain": [
       "다영    10\n",
       "다혜    20\n",
       "다희    30\n",
       "dtype: int64"
      ]
     },
     "execution_count": 17,
     "metadata": {},
     "output_type": "execute_result"
    }
   ],
   "source": [
    "# 인덱스 명시해서 시리즈 생성 (문자 인덱스)\n",
    "s = pd.Series([10, 20, 30], index=['다영', '다혜', '다희'])\n",
    "s"
   ]
  },
  {
   "cell_type": "markdown",
   "id": "536a95f1",
   "metadata": {},
   "source": [
    "## 인덱스 활용\n",
    "- 시리즈의 index는 index 속성으로 접근"
   ]
  },
  {
   "cell_type": "code",
   "execution_count": 18,
   "id": "1b245017",
   "metadata": {},
   "outputs": [
    {
     "data": {
      "text/plain": [
       "Index(['다영', '다혜', '다희'], dtype='object')"
      ]
     },
     "execution_count": 18,
     "metadata": {},
     "output_type": "execute_result"
    }
   ],
   "source": [
    "# 시리즈명.index\n",
    "s.index"
   ]
  },
  {
   "cell_type": "markdown",
   "id": "fd8cbbae",
   "metadata": {},
   "source": [
    "## 시리즈.index.name 속성\n",
    "- 시리즈의 인덱세이 이름을 불일 수 있음"
   ]
  },
  {
   "cell_type": "code",
   "execution_count": 19,
   "id": "d4a42aaf",
   "metadata": {},
   "outputs": [
    {
     "data": {
      "text/plain": [
       "다영    10\n",
       "다혜    20\n",
       "다희    30\n",
       "dtype: int64"
      ]
     },
     "execution_count": 19,
     "metadata": {},
     "output_type": "execute_result"
    }
   ],
   "source": [
    "s = pd.Series([10, 20, 30], index=['다영', '다혜', '다희'])\n",
    "s"
   ]
  },
  {
   "cell_type": "code",
   "execution_count": 20,
   "id": "dfb2684e",
   "metadata": {},
   "outputs": [
    {
     "data": {
      "text/plain": [
       "이름\n",
       "다영    10\n",
       "다혜    20\n",
       "다희    30\n",
       "dtype: int64"
      ]
     },
     "execution_count": 20,
     "metadata": {},
     "output_type": "execute_result"
    }
   ],
   "source": [
    "s.index.name = '이름' #인덱스 가독성을 높이게 위해서 사용\n",
    "s"
   ]
  },
  {
   "cell_type": "markdown",
   "id": "21c26974",
   "metadata": {},
   "source": [
    "예제 df 생성"
   ]
  },
  {
   "cell_type": "code",
   "execution_count": 28,
   "id": "f8ccc9c8",
   "metadata": {},
   "outputs": [
    {
     "data": {
      "text/plain": [
       "Index(['서울', '부산', '인천', '대구'], dtype='object')"
      ]
     },
     "execution_count": 28,
     "metadata": {},
     "output_type": "execute_result"
    }
   ],
   "source": [
    "s= pd.Series([9904312,3448737,289045,2466052],\n",
    "            index=[\"서울\",\"부산\",\"인천\",\"대구\"]) #dtype='object' datatype = '문자열객체'\n",
    "s.index"
   ]
  },
  {
   "cell_type": "code",
   "execution_count": 27,
   "id": "d2e9936a",
   "metadata": {},
   "outputs": [
    {
     "data": {
      "text/plain": [
       "도시\n",
       "서울    9904312\n",
       "부산    3448737\n",
       "인천     289045\n",
       "대구    2466052\n",
       "Name: 인구, dtype: int64"
      ]
     },
     "execution_count": 27,
     "metadata": {},
     "output_type": "execute_result"
    }
   ],
   "source": [
    "s.index.name = '도시'\n",
    "s"
   ]
  },
  {
   "cell_type": "markdown",
   "id": "2fea5e39",
   "metadata": {},
   "source": [
    " ## 시리즈의 실제 값 추출 => 시리즈.values 속성 사용"
   ]
  },
  {
   "cell_type": "code",
   "execution_count": 26,
   "id": "bb3fd587",
   "metadata": {},
   "outputs": [
    {
     "data": {
      "text/plain": [
       "array([9904312, 3448737,  289045, 2466052], dtype=int64)"
      ]
     },
     "execution_count": 26,
     "metadata": {},
     "output_type": "execute_result"
    }
   ],
   "source": [
    "s.values #array 구조로 반환"
   ]
  },
  {
   "cell_type": "markdown",
   "id": "dbcfce84",
   "metadata": {},
   "source": [
    "## 시리즈.name 속성\n",
    "- 시리즈 데이터 (valueds)에 이름을 붙일 수 있음\n",
    "- name 속성은 값의 의미 전달에 사용"
   ]
  },
  {
   "cell_type": "code",
   "execution_count": 29,
   "id": "7e522f5e",
   "metadata": {},
   "outputs": [
    {
     "data": {
      "text/plain": [
       "서울    9904312\n",
       "부산    3448737\n",
       "인천     289045\n",
       "대구    2466052\n",
       "dtype: int64"
      ]
     },
     "execution_count": 29,
     "metadata": {},
     "output_type": "execute_result"
    }
   ],
   "source": [
    "s #시리즈 name 추가 전"
   ]
  },
  {
   "cell_type": "code",
   "execution_count": 25,
   "id": "f0c8d2d0",
   "metadata": {},
   "outputs": [
    {
     "data": {
      "text/plain": [
       "도시\n",
       "서울    9904312\n",
       "부산    3448737\n",
       "인천     289045\n",
       "대구    2466052\n",
       "Name: 인구, dtype: int64"
      ]
     },
     "execution_count": 25,
     "metadata": {},
     "output_type": "execute_result"
    }
   ],
   "source": [
    "s.name = '인구'\n",
    "s"
   ]
  },
  {
   "cell_type": "markdown",
   "id": "59ac2d80",
   "metadata": {},
   "source": [
    "## 딕셔너리로 시리즈 만들기\n",
    "- Series({key:value,key1:value1....})\n",
    "- 인덱스 -> key\n",
    "- 값 -> value\n",
    "- key가 인덱스로 처리 되므로 명시적으로 인덱스를 설정하게 됨"
   ]
  },
  {
   "cell_type": "code",
   "execution_count": 30,
   "id": "910c2f68",
   "metadata": {},
   "outputs": [
    {
     "data": {
      "text/plain": [
       "홍길동     96\n",
       "이몽룡    100\n",
       "성춘향     88\n",
       "dtype: int64"
      ]
     },
     "execution_count": 30,
     "metadata": {},
     "output_type": "execute_result"
    }
   ],
   "source": [
    "scores = {'홍길동':96, '이몽룡':100, '성춘향':88}\n",
    "s=pd.Series(scores)\n",
    "s"
   ]
  },
  {
   "cell_type": "code",
   "execution_count": 11,
   "id": "dc254f37",
   "metadata": {},
   "outputs": [
    {
     "data": {
      "text/plain": [
       "서울    9631482\n",
       "부산    3393191\n",
       "인천    2632035\n",
       "대전    1490158\n",
       "dtype: int64"
      ]
     },
     "execution_count": 11,
     "metadata": {},
     "output_type": "execute_result"
    }
   ],
   "source": [
    "city = {'서울':9631482, '부산':3393191, '인천':2632035, '대전':1490158}\n",
    "s=pd.Series(city)\n",
    "s"
   ]
  },
  {
   "cell_type": "markdown",
   "id": "162ad8f8",
   "metadata": {},
   "source": [
    "## index로 딕셔너리 순서 기입\n",
    "- 딕셔너리의 원소는 순서를 갖지 않음\n",
    "- 딕셔너리로 생성된 시리즈의 원소도 순서가 보장되지 않음\n",
    "- 만약 순서를 보장하고 싶으면 인덱스를 리스트로 지정\n"
   ]
  },
  {
   "cell_type": "code",
   "execution_count": 12,
   "id": "58789355",
   "metadata": {},
   "outputs": [
    {
     "data": {
      "text/plain": [
       "부산    3393191\n",
       "인천    2632035\n",
       "서울    9631482\n",
       "대전    1490158\n",
       "dtype: int64"
      ]
     },
     "execution_count": 12,
     "metadata": {},
     "output_type": "execute_result"
    }
   ],
   "source": [
    "s=pd.Series(city, index=['부산', '인천', '서울', '대전'])\n",
    "s"
   ]
  },
  {
   "cell_type": "markdown",
   "id": "ea678771",
   "metadata": {},
   "source": []
  },
  {
   "cell_type": "markdown",
   "id": "8a62ec8f",
   "metadata": {},
   "source": [
    "## 인데싱 \n",
    "- 데이터에서 특정한 데이터를 추출하는 것\n",
    "\n",
    "## 시리즈의 인덱싱 종류\n",
    "- 정수형 위치 인덱스(integer position)\n",
    "- 인덱스 이름(index name) 또는  인덱스 라벨(index label)\n",
    "\n",
    "    - 인덱스 별도 지정하지 않으면 0부터 시작하는 정수형 인덱스가 지정됨\n",
    "\n",
    "## 원소 접근\n",
    "    - 정수형 인덱스 : 숫자 s[0]\n",
    "    - 문자형 인덱스 : 문자 s['인천']\n"
   ]
  },
  {
   "cell_type": "code",
   "execution_count": 13,
   "id": "8beaa79a",
   "metadata": {},
   "outputs": [
    {
     "name": "stdout",
     "output_type": "stream",
     "text": [
      "Index(['부산', '인천', '서울', '대전'], dtype='object')\n"
     ]
    },
    {
     "data": {
      "text/plain": [
       "부산    3393191\n",
       "인천    2632035\n",
       "서울    9631482\n",
       "대전    1490158\n",
       "dtype: int64"
      ]
     },
     "execution_count": 13,
     "metadata": {},
     "output_type": "execute_result"
    }
   ],
   "source": [
    "print(s.index)\n",
    "s"
   ]
  },
  {
   "cell_type": "code",
   "execution_count": 15,
   "id": "6c2b35be",
   "metadata": {},
   "outputs": [
    {
     "data": {
      "text/plain": [
       "3393191"
      ]
     },
     "execution_count": 15,
     "metadata": {},
     "output_type": "execute_result"
    }
   ],
   "source": [
    "# 위치 인덱스\n",
    "s[0] # 부산의 값"
   ]
  },
  {
   "cell_type": "code",
   "execution_count": 14,
   "id": "b21111df",
   "metadata": {},
   "outputs": [
    {
     "data": {
      "text/plain": [
       "3393191"
      ]
     },
     "execution_count": 14,
     "metadata": {},
     "output_type": "execute_result"
    }
   ],
   "source": [
    "#라벨 인덱스\n",
    "s['부산']"
   ]
  },
  {
   "cell_type": "code",
   "execution_count": 16,
   "id": "cffa8670",
   "metadata": {},
   "outputs": [
    {
     "data": {
      "text/plain": [
       "1    1\n",
       "2    2\n",
       "3    3\n",
       "dtype: int64"
      ]
     },
     "execution_count": 16,
     "metadata": {},
     "output_type": "execute_result"
    }
   ],
   "source": [
    "###확인_예제\n",
    "s_1 = pd.Series([1,2,3], index = [1,2,3])\n",
    "s_1"
   ]
  },
  {
   "cell_type": "code",
   "execution_count": 36,
   "id": "91a5401a",
   "metadata": {},
   "outputs": [
    {
     "ename": "KeyError",
     "evalue": "0",
     "output_type": "error",
     "traceback": [
      "\u001b[1;31m---------------------------------------------------------------------------\u001b[0m",
      "\u001b[1;31mKeyError\u001b[0m                                  Traceback (most recent call last)",
      "\u001b[1;32mC:\\ProgramData\\Anaconda3\\lib\\site-packages\\pandas\\core\\indexes\\base.py\u001b[0m in \u001b[0;36mget_loc\u001b[1;34m(self, key, method, tolerance)\u001b[0m\n\u001b[0;32m   3079\u001b[0m             \u001b[1;32mtry\u001b[0m\u001b[1;33m:\u001b[0m\u001b[1;33m\u001b[0m\u001b[1;33m\u001b[0m\u001b[0m\n\u001b[1;32m-> 3080\u001b[1;33m                 \u001b[1;32mreturn\u001b[0m \u001b[0mself\u001b[0m\u001b[1;33m.\u001b[0m\u001b[0m_engine\u001b[0m\u001b[1;33m.\u001b[0m\u001b[0mget_loc\u001b[0m\u001b[1;33m(\u001b[0m\u001b[0mcasted_key\u001b[0m\u001b[1;33m)\u001b[0m\u001b[1;33m\u001b[0m\u001b[1;33m\u001b[0m\u001b[0m\n\u001b[0m\u001b[0;32m   3081\u001b[0m             \u001b[1;32mexcept\u001b[0m \u001b[0mKeyError\u001b[0m \u001b[1;32mas\u001b[0m \u001b[0merr\u001b[0m\u001b[1;33m:\u001b[0m\u001b[1;33m\u001b[0m\u001b[1;33m\u001b[0m\u001b[0m\n",
      "\u001b[1;32mpandas\\_libs\\index.pyx\u001b[0m in \u001b[0;36mpandas._libs.index.IndexEngine.get_loc\u001b[1;34m()\u001b[0m\n",
      "\u001b[1;32mpandas\\_libs\\index.pyx\u001b[0m in \u001b[0;36mpandas._libs.index.IndexEngine.get_loc\u001b[1;34m()\u001b[0m\n",
      "\u001b[1;32mpandas\\_libs\\hashtable_class_helper.pxi\u001b[0m in \u001b[0;36mpandas._libs.hashtable.Int64HashTable.get_item\u001b[1;34m()\u001b[0m\n",
      "\u001b[1;32mpandas\\_libs\\hashtable_class_helper.pxi\u001b[0m in \u001b[0;36mpandas._libs.hashtable.Int64HashTable.get_item\u001b[1;34m()\u001b[0m\n",
      "\u001b[1;31mKeyError\u001b[0m: 0",
      "\nThe above exception was the direct cause of the following exception:\n",
      "\u001b[1;31mKeyError\u001b[0m                                  Traceback (most recent call last)",
      "\u001b[1;32m<ipython-input-36-b83264791568>\u001b[0m in \u001b[0;36m<module>\u001b[1;34m\u001b[0m\n\u001b[1;32m----> 1\u001b[1;33m \u001b[0ms_1\u001b[0m\u001b[1;33m[\u001b[0m\u001b[1;36m0\u001b[0m\u001b[1;33m]\u001b[0m \u001b[1;31m#인덱스를 정수로 입력시 위치를 나타내는 인덱스 사용 불가능\u001b[0m\u001b[1;33m\u001b[0m\u001b[1;33m\u001b[0m\u001b[0m\n\u001b[0m",
      "\u001b[1;32mC:\\ProgramData\\Anaconda3\\lib\\site-packages\\pandas\\core\\series.py\u001b[0m in \u001b[0;36m__getitem__\u001b[1;34m(self, key)\u001b[0m\n\u001b[0;32m    851\u001b[0m \u001b[1;33m\u001b[0m\u001b[0m\n\u001b[0;32m    852\u001b[0m         \u001b[1;32melif\u001b[0m \u001b[0mkey_is_scalar\u001b[0m\u001b[1;33m:\u001b[0m\u001b[1;33m\u001b[0m\u001b[1;33m\u001b[0m\u001b[0m\n\u001b[1;32m--> 853\u001b[1;33m             \u001b[1;32mreturn\u001b[0m \u001b[0mself\u001b[0m\u001b[1;33m.\u001b[0m\u001b[0m_get_value\u001b[0m\u001b[1;33m(\u001b[0m\u001b[0mkey\u001b[0m\u001b[1;33m)\u001b[0m\u001b[1;33m\u001b[0m\u001b[1;33m\u001b[0m\u001b[0m\n\u001b[0m\u001b[0;32m    854\u001b[0m \u001b[1;33m\u001b[0m\u001b[0m\n\u001b[0;32m    855\u001b[0m         \u001b[1;32mif\u001b[0m \u001b[0mis_hashable\u001b[0m\u001b[1;33m(\u001b[0m\u001b[0mkey\u001b[0m\u001b[1;33m)\u001b[0m\u001b[1;33m:\u001b[0m\u001b[1;33m\u001b[0m\u001b[1;33m\u001b[0m\u001b[0m\n",
      "\u001b[1;32mC:\\ProgramData\\Anaconda3\\lib\\site-packages\\pandas\\core\\series.py\u001b[0m in \u001b[0;36m_get_value\u001b[1;34m(self, label, takeable)\u001b[0m\n\u001b[0;32m    959\u001b[0m \u001b[1;33m\u001b[0m\u001b[0m\n\u001b[0;32m    960\u001b[0m         \u001b[1;31m# Similar to Index.get_value, but we do not fall back to positional\u001b[0m\u001b[1;33m\u001b[0m\u001b[1;33m\u001b[0m\u001b[1;33m\u001b[0m\u001b[0m\n\u001b[1;32m--> 961\u001b[1;33m         \u001b[0mloc\u001b[0m \u001b[1;33m=\u001b[0m \u001b[0mself\u001b[0m\u001b[1;33m.\u001b[0m\u001b[0mindex\u001b[0m\u001b[1;33m.\u001b[0m\u001b[0mget_loc\u001b[0m\u001b[1;33m(\u001b[0m\u001b[0mlabel\u001b[0m\u001b[1;33m)\u001b[0m\u001b[1;33m\u001b[0m\u001b[1;33m\u001b[0m\u001b[0m\n\u001b[0m\u001b[0;32m    962\u001b[0m         \u001b[1;32mreturn\u001b[0m \u001b[0mself\u001b[0m\u001b[1;33m.\u001b[0m\u001b[0mindex\u001b[0m\u001b[1;33m.\u001b[0m\u001b[0m_get_values_for_loc\u001b[0m\u001b[1;33m(\u001b[0m\u001b[0mself\u001b[0m\u001b[1;33m,\u001b[0m \u001b[0mloc\u001b[0m\u001b[1;33m,\u001b[0m \u001b[0mlabel\u001b[0m\u001b[1;33m)\u001b[0m\u001b[1;33m\u001b[0m\u001b[1;33m\u001b[0m\u001b[0m\n\u001b[0;32m    963\u001b[0m \u001b[1;33m\u001b[0m\u001b[0m\n",
      "\u001b[1;32mC:\\ProgramData\\Anaconda3\\lib\\site-packages\\pandas\\core\\indexes\\base.py\u001b[0m in \u001b[0;36mget_loc\u001b[1;34m(self, key, method, tolerance)\u001b[0m\n\u001b[0;32m   3080\u001b[0m                 \u001b[1;32mreturn\u001b[0m \u001b[0mself\u001b[0m\u001b[1;33m.\u001b[0m\u001b[0m_engine\u001b[0m\u001b[1;33m.\u001b[0m\u001b[0mget_loc\u001b[0m\u001b[1;33m(\u001b[0m\u001b[0mcasted_key\u001b[0m\u001b[1;33m)\u001b[0m\u001b[1;33m\u001b[0m\u001b[1;33m\u001b[0m\u001b[0m\n\u001b[0;32m   3081\u001b[0m             \u001b[1;32mexcept\u001b[0m \u001b[0mKeyError\u001b[0m \u001b[1;32mas\u001b[0m \u001b[0merr\u001b[0m\u001b[1;33m:\u001b[0m\u001b[1;33m\u001b[0m\u001b[1;33m\u001b[0m\u001b[0m\n\u001b[1;32m-> 3082\u001b[1;33m                 \u001b[1;32mraise\u001b[0m \u001b[0mKeyError\u001b[0m\u001b[1;33m(\u001b[0m\u001b[0mkey\u001b[0m\u001b[1;33m)\u001b[0m \u001b[1;32mfrom\u001b[0m \u001b[0merr\u001b[0m\u001b[1;33m\u001b[0m\u001b[1;33m\u001b[0m\u001b[0m\n\u001b[0m\u001b[0;32m   3083\u001b[0m \u001b[1;33m\u001b[0m\u001b[0m\n\u001b[0;32m   3084\u001b[0m         \u001b[1;32mif\u001b[0m \u001b[0mtolerance\u001b[0m \u001b[1;32mis\u001b[0m \u001b[1;32mnot\u001b[0m \u001b[1;32mNone\u001b[0m\u001b[1;33m:\u001b[0m\u001b[1;33m\u001b[0m\u001b[1;33m\u001b[0m\u001b[0m\n",
      "\u001b[1;31mKeyError\u001b[0m: 0"
     ]
    }
   ],
   "source": [
    "s_1[0] #인덱스를 정수로 입력시 위치를 나타내는 인덱스 사용 불가능"
   ]
  },
  {
   "cell_type": "code",
   "execution_count": 17,
   "id": "a18d3ee6",
   "metadata": {},
   "outputs": [
    {
     "data": {
      "text/plain": [
       "1"
      ]
     },
     "execution_count": 17,
     "metadata": {},
     "output_type": "execute_result"
    }
   ],
   "source": [
    "s_1[1]"
   ]
  },
  {
   "cell_type": "code",
   "execution_count": 18,
   "id": "1d4312ab",
   "metadata": {},
   "outputs": [
    {
     "data": {
      "text/plain": [
       "Int64Index([1, 2, 3], dtype='int64')"
      ]
     },
     "execution_count": 18,
     "metadata": {},
     "output_type": "execute_result"
    }
   ],
   "source": [
    "s_1.index\n",
    "#s_1[0] 인덱스 타입이 정수면 위치 인덱스 사용 불가능"
   ]
  },
  {
   "cell_type": "code",
   "execution_count": null,
   "id": "91486269",
   "metadata": {},
   "outputs": [],
   "source": []
  },
  {
   "cell_type": "code",
   "execution_count": 19,
   "id": "3916c009",
   "metadata": {},
   "outputs": [
    {
     "name": "stdout",
     "output_type": "stream",
     "text": [
      "부산    3393191\n",
      "인천    2632035\n",
      "서울    9631482\n",
      "대전    1490158\n",
      "dtype: int64\n"
     ]
    },
    {
     "data": {
      "text/plain": [
       "(1490158, 1490158)"
      ]
     },
     "execution_count": 19,
     "metadata": {},
     "output_type": "execute_result"
    }
   ],
   "source": [
    "# 한줄에 위치 인덱스, 문자인덱스를 동시에 접근\n",
    "print(s) #마지막에 값만 출력되서 중간 print(s) 사용\n",
    "s[3], s['대전'] #튜플 생성"
   ]
  },
  {
   "cell_type": "markdown",
   "id": "c1286ab9",
   "metadata": {},
   "source": [
    "## 리스트 이용 인덱싱\n",
    "    - 자료의 순서를 바꿔 반환하거나, 특정 자료 여려개를 선택할 때 사용\n",
    "    - 시르즈명[[인덱스1, 인덱스2......]]"
   ]
  },
  {
   "cell_type": "code",
   "execution_count": 20,
   "id": "9686de41",
   "metadata": {},
   "outputs": [
    {
     "data": {
      "text/plain": [
       "부산    3393191\n",
       "인천    2632035\n",
       "서울    9631482\n",
       "대전    1490158\n",
       "dtype: int64"
      ]
     },
     "execution_count": 20,
     "metadata": {},
     "output_type": "execute_result"
    }
   ],
   "source": [
    "s"
   ]
  },
  {
   "cell_type": "code",
   "execution_count": 22,
   "id": "8607233b",
   "metadata": {},
   "outputs": [
    {
     "data": {
      "text/plain": [
       "부산    3393191\n",
       "대전    1490158\n",
       "서울    9631482\n",
       "인천    2632035\n",
       "dtype: int64"
      ]
     },
     "execution_count": 22,
     "metadata": {},
     "output_type": "execute_result"
    }
   ],
   "source": [
    "s[[0,3,2,1]] #위치 인덱스를 사용"
   ]
  },
  {
   "cell_type": "code",
   "execution_count": 25,
   "id": "d815ac63",
   "metadata": {},
   "outputs": [
    {
     "data": {
      "text/plain": [
       "서울    9631482\n",
       "인천    2632035\n",
       "dtype: int64"
      ]
     },
     "execution_count": 25,
     "metadata": {},
     "output_type": "execute_result"
    }
   ],
   "source": [
    "s[['서울', '인천']]"
   ]
  },
  {
   "cell_type": "markdown",
   "id": "a5447f54",
   "metadata": {},
   "source": [
    "## 시리즈 슬라이싱을 이용한 인덱싱\n",
    "- 정수형 위치 인덱스를 사용한 슬라이싱\n",
    "    - 시리즈[start:stop+1]\n",
    "- 문자(라벨)인덱스 이용 슬라이싱\n",
    "    - 시리즈['시작라벨':'끝라벨']  : 표시된 라벨 범위 모두 추출\n"
   ]
  },
  {
   "cell_type": "code",
   "execution_count": 24,
   "id": "15d3e9ad",
   "metadata": {},
   "outputs": [
    {
     "data": {
      "text/plain": [
       "부산    3393191\n",
       "인천    2632035\n",
       "서울    9631482\n",
       "대전    1490158\n",
       "dtype: int64"
      ]
     },
     "execution_count": 24,
     "metadata": {},
     "output_type": "execute_result"
    }
   ],
   "source": [
    "s"
   ]
  },
  {
   "cell_type": "code",
   "execution_count": 26,
   "id": "2be1114b",
   "metadata": {},
   "outputs": [
    {
     "data": {
      "text/plain": [
       "인천    2632035\n",
       "서울    9631482\n",
       "dtype: int64"
      ]
     },
     "execution_count": 26,
     "metadata": {},
     "output_type": "execute_result"
    }
   ],
   "source": [
    "#위치 인덱스 슬라이싱\n",
    "s[1:3] # 1~2까지 "
   ]
  },
  {
   "cell_type": "code",
   "execution_count": 28,
   "id": "e03a76fa",
   "metadata": {},
   "outputs": [
    {
     "data": {
      "text/plain": [
       "부산    3393191\n",
       "인천    2632035\n",
       "서울    9631482\n",
       "dtype: int64"
      ]
     },
     "execution_count": 28,
     "metadata": {},
     "output_type": "execute_result"
    }
   ],
   "source": [
    "s['부산' : '서울']"
   ]
  },
  {
   "cell_type": "code",
   "execution_count": null,
   "id": "65e917fe",
   "metadata": {},
   "outputs": [],
   "source": []
  },
  {
   "cell_type": "code",
   "execution_count": 29,
   "id": "643af9a4",
   "metadata": {
    "scrolled": true
   },
   "outputs": [
    {
     "data": {
      "text/plain": [
       "인천    2632035\n",
       "서울    9631482\n",
       "대전    1490158\n",
       "dtype: int64"
      ]
     },
     "execution_count": 29,
     "metadata": {},
     "output_type": "execute_result"
    }
   ],
   "source": [
    "s['인천':'대전']"
   ]
  },
  {
   "cell_type": "code",
   "execution_count": 30,
   "id": "3bfe6cd2",
   "metadata": {},
   "outputs": [
    {
     "data": {
      "text/plain": [
       "1    1\n",
       "3    2\n",
       "5    3\n",
       "7    4\n",
       "dtype: int64"
      ]
     },
     "execution_count": 30,
     "metadata": {},
     "output_type": "execute_result"
    }
   ],
   "source": [
    "#슬라이싱 예제 - 명시적으로 설정한 정수 인덱스를 슬라이싱하면 위치 슬라이싱 적용 - 주의!!!\n",
    "\n",
    "s_test = pd.Series([1,2,3,4], index = [1,3,5,7])\n",
    "s_test"
   ]
  },
  {
   "cell_type": "code",
   "execution_count": 31,
   "id": "b85650a4",
   "metadata": {},
   "outputs": [
    {
     "data": {
      "text/plain": [
       "3    2\n",
       "5    3\n",
       "7    4\n",
       "dtype: int64"
      ]
     },
     "execution_count": 31,
     "metadata": {},
     "output_type": "execute_result"
    }
   ],
   "source": [
    "s_test[1:5] ## 위치 슬라이싱이 적용 1 2 3 4까지 출력 (4 즉 5번째 위치 값이 없어서 출력 x) "
   ]
  },
  {
   "cell_type": "code",
   "execution_count": 32,
   "id": "dffc5e92",
   "metadata": {},
   "outputs": [
    {
     "data": {
      "text/plain": [
       "3    2\n",
       "5    3\n",
       "7    4\n",
       "dtype: int64"
      ]
     },
     "execution_count": 32,
     "metadata": {},
     "output_type": "execute_result"
    }
   ],
   "source": [
    "s_test[1:7] # 위 결과와 동일한 것을 확인 가능"
   ]
  },
  {
   "cell_type": "code",
   "execution_count": 33,
   "id": "b4bff50b",
   "metadata": {},
   "outputs": [
    {
     "data": {
      "text/plain": [
       "부산    3393191\n",
       "인천    2632035\n",
       "서울    9631482\n",
       "대전    1490158\n",
       "dtype: int64"
      ]
     },
     "execution_count": 33,
     "metadata": {},
     "output_type": "execute_result"
    }
   ],
   "source": [
    "### 문자 인덱스인 경우에는 .  (dot)를 이용해서 접근 할 수 있음\n",
    "\n",
    "s"
   ]
  },
  {
   "cell_type": "code",
   "execution_count": 34,
   "id": "fe83388c",
   "metadata": {},
   "outputs": [
    {
     "data": {
      "text/plain": [
       "9631482"
      ]
     },
     "execution_count": 34,
     "metadata": {},
     "output_type": "execute_result"
    }
   ],
   "source": [
    "s.서울"
   ]
  },
  {
   "cell_type": "code",
   "execution_count": 35,
   "id": "bd0960c8",
   "metadata": {},
   "outputs": [
    {
     "data": {
      "text/plain": [
       "2632035"
      ]
     },
     "execution_count": 35,
     "metadata": {},
     "output_type": "execute_result"
    }
   ],
   "source": [
    "s.인천 ### pandas 버전이 높아지면서 한글도 지원"
   ]
  },
  {
   "cell_type": "code",
   "execution_count": 36,
   "id": "fda06928",
   "metadata": {},
   "outputs": [
    {
     "data": {
      "text/plain": [
       "1    1\n",
       "3    2\n",
       "5    3\n",
       "7    4\n",
       "dtype: int64"
      ]
     },
     "execution_count": 36,
     "metadata": {},
     "output_type": "execute_result"
    }
   ],
   "source": [
    "s_test"
   ]
  },
  {
   "cell_type": "code",
   "execution_count": 37,
   "id": "8c3eb14c",
   "metadata": {},
   "outputs": [
    {
     "ename": "SyntaxError",
     "evalue": "invalid syntax (<ipython-input-37-923f3f6ef443>, line 1)",
     "output_type": "error",
     "traceback": [
      "\u001b[1;36m  File \u001b[1;32m\"<ipython-input-37-923f3f6ef443>\"\u001b[1;36m, line \u001b[1;32m1\u001b[0m\n\u001b[1;33m    s.1 # dot 연산은 문자로 적용 되어 있어야 함\u001b[0m\n\u001b[1;37m     ^\u001b[0m\n\u001b[1;31mSyntaxError\u001b[0m\u001b[1;31m:\u001b[0m invalid syntax\n"
     ]
    }
   ],
   "source": [
    "#문자만 dot 연상 가능\n",
    "\n",
    "s.1 # dot 연산은 문자로 적용 되어 있어야 함\n",
    "# s_test.1 연산자 이용한 원소 접근은 문자 인덱스만 가능"
   ]
  },
  {
   "cell_type": "code",
   "execution_count": 38,
   "id": "3469a1f5",
   "metadata": {},
   "outputs": [
    {
     "data": {
      "text/plain": [
       "부산    3393191\n",
       "인천    2632035\n",
       "서울    9631482\n",
       "대전    1490158\n",
       "dtype: int64"
      ]
     },
     "execution_count": 38,
     "metadata": {},
     "output_type": "execute_result"
    }
   ],
   "source": [
    "s"
   ]
  },
  {
   "cell_type": "code",
   "execution_count": 39,
   "id": "16df35ac",
   "metadata": {},
   "outputs": [],
   "source": [
    "s['서울'] = 10000000 # 서울이라는 곳에 값 새로 입력"
   ]
  },
  {
   "cell_type": "code",
   "execution_count": 40,
   "id": "fc503167",
   "metadata": {},
   "outputs": [
    {
     "data": {
      "text/plain": [
       "부산     3393191\n",
       "인천     2632035\n",
       "서울    10000000\n",
       "대전     1490158\n",
       "dtype: int64"
      ]
     },
     "execution_count": 40,
     "metadata": {},
     "output_type": "execute_result"
    }
   ],
   "source": [
    "s"
   ]
  },
  {
   "cell_type": "code",
   "execution_count": null,
   "id": "04a50e95",
   "metadata": {},
   "outputs": [],
   "source": []
  },
  {
   "cell_type": "markdown",
   "id": "5ba16c62",
   "metadata": {},
   "source": [
    "## 인덱스 재사용 가능"
   ]
  },
  {
   "cell_type": "code",
   "execution_count": 42,
   "id": "954611cb",
   "metadata": {},
   "outputs": [
    {
     "data": {
      "text/plain": [
       "부산    0\n",
       "인천    1\n",
       "서울    2\n",
       "대전    3\n",
       "dtype: int32"
      ]
     },
     "execution_count": 42,
     "metadata": {},
     "output_type": "execute_result"
    }
   ],
   "source": [
    "s.index\n",
    "s1 = pd.Series(np.arange(4), s.index)\n",
    "s1"
   ]
  },
  {
   "cell_type": "markdown",
   "id": "f678f879",
   "metadata": {},
   "source": [
    "## 시리즈 연산"
   ]
  },
  {
   "cell_type": "code",
   "execution_count": 43,
   "id": "0342a5e7",
   "metadata": {},
   "outputs": [
    {
     "data": {
      "text/plain": [
       "부산     3393191\n",
       "인천     2632035\n",
       "서울    10000000\n",
       "대전     1490158\n",
       "dtype: int64"
      ]
     },
     "execution_count": 43,
     "metadata": {},
     "output_type": "execute_result"
    }
   ],
   "source": [
    "#예제 시리즈\n",
    "s\n",
    "\n",
    "# 부산     3393191\n",
    "# 인천     2632035\n",
    "# 서울    10000000\n",
    "# 대전     1490158\n",
    "# dtype: int64\n"
   ]
  },
  {
   "cell_type": "markdown",
   "id": "3da87a34",
   "metadata": {},
   "source": [
    "## 벡터화 연산\n",
    "- numpy 배열처럼 pandas의 시리즈도 벡터화 연산 가능 \n",
    "- 벡터화 연산이란 집합적 자료형의 원소 각각을 독립적으로 계산을 진행하는 방법\n",
    "    - 단, 연산은 시리즈의 값에만 적용되며 인덱스 값은 변경 불가\n"
   ]
  },
  {
   "cell_type": "code",
   "execution_count": 44,
   "id": "360605f5",
   "metadata": {},
   "outputs": [
    {
     "data": {
      "text/plain": [
       "0    5\n",
       "1    6\n",
       "2    7\n",
       "dtype: int64"
      ]
     },
     "execution_count": 44,
     "metadata": {},
     "output_type": "execute_result"
    }
   ],
   "source": [
    "pd.Series([1,2,3]) + 4"
   ]
  },
  {
   "cell_type": "code",
   "execution_count": 45,
   "id": "c5d6bcb2",
   "metadata": {},
   "outputs": [
    {
     "data": {
      "text/plain": [
       "부산     3.393191\n",
       "인천     2.632035\n",
       "서울    10.000000\n",
       "대전     1.490158\n",
       "dtype: float64"
      ]
     },
     "execution_count": 45,
     "metadata": {},
     "output_type": "execute_result"
    }
   ],
   "source": [
    "s/1000000"
   ]
  },
  {
   "cell_type": "code",
   "execution_count": 46,
   "id": "7cea9c95",
   "metadata": {},
   "outputs": [
    {
     "data": {
      "text/plain": [
       "부산     True\n",
       "인천     True\n",
       "서울    False\n",
       "대전    False\n",
       "dtype: bool"
      ]
     },
     "execution_count": 46,
     "metadata": {},
     "output_type": "execute_result"
    }
   ],
   "source": [
    "# 벡터화 인덱싱 - 인덱싱에 조건시을 활용할수 있음\n",
    "# 시리즈 S의 원소 값중 2500000 보다 크고 5000000 보다 작은 원소 추출\n",
    "# 시르즈명 [조건식] - 각 원소의 값 모두를 각각 조건식으로 확인해서 결과가 true인 원소만 추출\n",
    "\n",
    "#s>2500000 #250e4로 표기 가능\n",
    "\n",
    "(s>250e4) & (s<500e4)\n",
    "\n"
   ]
  },
  {
   "cell_type": "code",
   "execution_count": 47,
   "id": "2c58a4e9",
   "metadata": {},
   "outputs": [
    {
     "data": {
      "text/plain": [
       "부산    3393191\n",
       "인천    2632035\n",
       "dtype: int64"
      ]
     },
     "execution_count": 47,
     "metadata": {},
     "output_type": "execute_result"
    }
   ],
   "source": [
    "s[(s>250e4) & (s<500e4)]  ### 해당 원소만 반환해서 추출 가능"
   ]
  },
  {
   "cell_type": "markdown",
   "id": "fd55a896",
   "metadata": {},
   "source": [
    "## **Boolean selection**\n",
    "  - boolean Series가 [ ]와 함께 사용되면 True 값에 해당하는 값만 새로 반환되는 Series객체에 포함됨\n",
    "  - 다중조건의 경우, &(and), |(or)를 사용하여 연결 가능\n"
   ]
  },
  {
   "cell_type": "code",
   "execution_count": 50,
   "id": "d0e53881",
   "metadata": {},
   "outputs": [
    {
     "data": {
      "text/plain": [
       "1     0\n",
       "2     1\n",
       "3     2\n",
       "4     3\n",
       "5     4\n",
       "6     5\n",
       "7     6\n",
       "8     7\n",
       "9     8\n",
       "10    9\n",
       "dtype: int32"
      ]
     },
     "execution_count": 50,
     "metadata": {},
     "output_type": "execute_result"
    }
   ],
   "source": [
    "s0 = pd.Series(np.arange(10), np.arange(10)+1) #Series(value, index)\n",
    "s0\n"
   ]
  },
  {
   "cell_type": "code",
   "execution_count": 51,
   "id": "68df9a5a",
   "metadata": {},
   "outputs": [
    {
     "data": {
      "text/plain": [
       "1     False\n",
       "2     False\n",
       "3     False\n",
       "4     False\n",
       "5     False\n",
       "6     False\n",
       "7      True\n",
       "8      True\n",
       "9      True\n",
       "10     True\n",
       "dtype: bool"
      ]
     },
     "execution_count": 51,
     "metadata": {},
     "output_type": "execute_result"
    }
   ],
   "source": [
    "s0>5"
   ]
  },
  {
   "cell_type": "code",
   "execution_count": 52,
   "id": "d5a2cc11",
   "metadata": {},
   "outputs": [
    {
     "data": {
      "text/plain": [
       "7     6\n",
       "8     7\n",
       "9     8\n",
       "10    9\n",
       "dtype: int32"
      ]
     },
     "execution_count": 52,
     "metadata": {},
     "output_type": "execute_result"
    }
   ],
   "source": [
    "s0[s0>5]"
   ]
  },
  {
   "cell_type": "code",
   "execution_count": 53,
   "id": "c1165266",
   "metadata": {},
   "outputs": [
    {
     "data": {
      "text/plain": [
       "1      True\n",
       "2     False\n",
       "3      True\n",
       "4     False\n",
       "5      True\n",
       "6     False\n",
       "7      True\n",
       "8     False\n",
       "9      True\n",
       "10    False\n",
       "dtype: bool"
      ]
     },
     "execution_count": 53,
     "metadata": {},
     "output_type": "execute_result"
    }
   ],
   "source": [
    "## s0 시리즈의  원소값 중  짝수 원소 값을 추출하시오\n",
    "s0%2 == 0"
   ]
  },
  {
   "cell_type": "code",
   "execution_count": 54,
   "id": "8929a1fe",
   "metadata": {},
   "outputs": [
    {
     "data": {
      "text/plain": [
       "1    0\n",
       "3    2\n",
       "5    4\n",
       "7    6\n",
       "9    8\n",
       "dtype: int32"
      ]
     },
     "execution_count": 54,
     "metadata": {},
     "output_type": "execute_result"
    }
   ],
   "source": [
    "s0[s0%2 == 0]"
   ]
  },
  {
   "cell_type": "code",
   "execution_count": 57,
   "id": "db5641d2",
   "metadata": {},
   "outputs": [
    {
     "data": {
      "text/plain": [
       "부산     3393191\n",
       "인천     2632035\n",
       "서울    10000000\n",
       "대전     1490158\n",
       "dtype: int64"
      ]
     },
     "execution_count": 57,
     "metadata": {},
     "output_type": "execute_result"
    }
   ],
   "source": [
    "s"
   ]
  },
  {
   "cell_type": "code",
   "execution_count": 58,
   "id": "31162057",
   "metadata": {},
   "outputs": [
    {
     "data": {
      "text/plain": [
       "Index(['부산', '인천', '서울', '대전'], dtype='object')"
      ]
     },
     "execution_count": 58,
     "metadata": {},
     "output_type": "execute_result"
    }
   ],
   "source": [
    "s.index"
   ]
  },
  {
   "cell_type": "code",
   "execution_count": 55,
   "id": "68e26781",
   "metadata": {},
   "outputs": [
    {
     "ename": "TypeError",
     "evalue": "'>' not supported between instances of 'str' and 'int'",
     "output_type": "error",
     "traceback": [
      "\u001b[1;31m---------------------------------------------------------------------------\u001b[0m",
      "\u001b[1;31mTypeError\u001b[0m                                 Traceback (most recent call last)",
      "\u001b[1;32m<ipython-input-55-aaaddb0e6af5>\u001b[0m in \u001b[0;36m<module>\u001b[1;34m\u001b[0m\n\u001b[1;32m----> 1\u001b[1;33m \u001b[0ms\u001b[0m\u001b[1;33m.\u001b[0m\u001b[0mindex\u001b[0m \u001b[1;33m>\u001b[0m \u001b[1;36m5\u001b[0m\u001b[1;33m\u001b[0m\u001b[1;33m\u001b[0m\u001b[0m\n\u001b[0m",
      "\u001b[1;32mC:\\ProgramData\\Anaconda3\\lib\\site-packages\\pandas\\core\\ops\\common.py\u001b[0m in \u001b[0;36mnew_method\u001b[1;34m(self, other)\u001b[0m\n\u001b[0;32m     63\u001b[0m         \u001b[0mother\u001b[0m \u001b[1;33m=\u001b[0m \u001b[0mitem_from_zerodim\u001b[0m\u001b[1;33m(\u001b[0m\u001b[0mother\u001b[0m\u001b[1;33m)\u001b[0m\u001b[1;33m\u001b[0m\u001b[1;33m\u001b[0m\u001b[0m\n\u001b[0;32m     64\u001b[0m \u001b[1;33m\u001b[0m\u001b[0m\n\u001b[1;32m---> 65\u001b[1;33m         \u001b[1;32mreturn\u001b[0m \u001b[0mmethod\u001b[0m\u001b[1;33m(\u001b[0m\u001b[0mself\u001b[0m\u001b[1;33m,\u001b[0m \u001b[0mother\u001b[0m\u001b[1;33m)\u001b[0m\u001b[1;33m\u001b[0m\u001b[1;33m\u001b[0m\u001b[0m\n\u001b[0m\u001b[0;32m     66\u001b[0m \u001b[1;33m\u001b[0m\u001b[0m\n\u001b[0;32m     67\u001b[0m     \u001b[1;32mreturn\u001b[0m \u001b[0mnew_method\u001b[0m\u001b[1;33m\u001b[0m\u001b[1;33m\u001b[0m\u001b[0m\n",
      "\u001b[1;32mC:\\ProgramData\\Anaconda3\\lib\\site-packages\\pandas\\core\\arraylike.py\u001b[0m in \u001b[0;36m__gt__\u001b[1;34m(self, other)\u001b[0m\n\u001b[0;32m     43\u001b[0m     \u001b[1;33m@\u001b[0m\u001b[0munpack_zerodim_and_defer\u001b[0m\u001b[1;33m(\u001b[0m\u001b[1;34m\"__gt__\"\u001b[0m\u001b[1;33m)\u001b[0m\u001b[1;33m\u001b[0m\u001b[1;33m\u001b[0m\u001b[0m\n\u001b[0;32m     44\u001b[0m     \u001b[1;32mdef\u001b[0m \u001b[0m__gt__\u001b[0m\u001b[1;33m(\u001b[0m\u001b[0mself\u001b[0m\u001b[1;33m,\u001b[0m \u001b[0mother\u001b[0m\u001b[1;33m)\u001b[0m\u001b[1;33m:\u001b[0m\u001b[1;33m\u001b[0m\u001b[1;33m\u001b[0m\u001b[0m\n\u001b[1;32m---> 45\u001b[1;33m         \u001b[1;32mreturn\u001b[0m \u001b[0mself\u001b[0m\u001b[1;33m.\u001b[0m\u001b[0m_cmp_method\u001b[0m\u001b[1;33m(\u001b[0m\u001b[0mother\u001b[0m\u001b[1;33m,\u001b[0m \u001b[0moperator\u001b[0m\u001b[1;33m.\u001b[0m\u001b[0mgt\u001b[0m\u001b[1;33m)\u001b[0m\u001b[1;33m\u001b[0m\u001b[1;33m\u001b[0m\u001b[0m\n\u001b[0m\u001b[0;32m     46\u001b[0m \u001b[1;33m\u001b[0m\u001b[0m\n\u001b[0;32m     47\u001b[0m     \u001b[1;33m@\u001b[0m\u001b[0munpack_zerodim_and_defer\u001b[0m\u001b[1;33m(\u001b[0m\u001b[1;34m\"__ge__\"\u001b[0m\u001b[1;33m)\u001b[0m\u001b[1;33m\u001b[0m\u001b[1;33m\u001b[0m\u001b[0m\n",
      "\u001b[1;32mC:\\ProgramData\\Anaconda3\\lib\\site-packages\\pandas\\core\\indexes\\base.py\u001b[0m in \u001b[0;36m_cmp_method\u001b[1;34m(self, other, op)\u001b[0m\n\u001b[0;32m   5628\u001b[0m             \u001b[1;31m# don't pass MultiIndex\u001b[0m\u001b[1;33m\u001b[0m\u001b[1;33m\u001b[0m\u001b[1;33m\u001b[0m\u001b[0m\n\u001b[0;32m   5629\u001b[0m             \u001b[1;32mwith\u001b[0m \u001b[0mnp\u001b[0m\u001b[1;33m.\u001b[0m\u001b[0merrstate\u001b[0m\u001b[1;33m(\u001b[0m\u001b[0mall\u001b[0m\u001b[1;33m=\u001b[0m\u001b[1;34m\"ignore\"\u001b[0m\u001b[1;33m)\u001b[0m\u001b[1;33m:\u001b[0m\u001b[1;33m\u001b[0m\u001b[1;33m\u001b[0m\u001b[0m\n\u001b[1;32m-> 5630\u001b[1;33m                 \u001b[0mresult\u001b[0m \u001b[1;33m=\u001b[0m \u001b[0mops\u001b[0m\u001b[1;33m.\u001b[0m\u001b[0mcomp_method_OBJECT_ARRAY\u001b[0m\u001b[1;33m(\u001b[0m\u001b[0mop\u001b[0m\u001b[1;33m,\u001b[0m \u001b[0mself\u001b[0m\u001b[1;33m.\u001b[0m\u001b[0m_values\u001b[0m\u001b[1;33m,\u001b[0m \u001b[0mother\u001b[0m\u001b[1;33m)\u001b[0m\u001b[1;33m\u001b[0m\u001b[1;33m\u001b[0m\u001b[0m\n\u001b[0m\u001b[0;32m   5631\u001b[0m \u001b[1;33m\u001b[0m\u001b[0m\n\u001b[0;32m   5632\u001b[0m         \u001b[1;32melif\u001b[0m \u001b[0mis_interval_dtype\u001b[0m\u001b[1;33m(\u001b[0m\u001b[0mself\u001b[0m\u001b[1;33m.\u001b[0m\u001b[0mdtype\u001b[0m\u001b[1;33m)\u001b[0m\u001b[1;33m:\u001b[0m\u001b[1;33m\u001b[0m\u001b[1;33m\u001b[0m\u001b[0m\n",
      "\u001b[1;32mC:\\ProgramData\\Anaconda3\\lib\\site-packages\\pandas\\core\\ops\\array_ops.py\u001b[0m in \u001b[0;36mcomp_method_OBJECT_ARRAY\u001b[1;34m(op, x, y)\u001b[0m\n\u001b[0;32m     53\u001b[0m         \u001b[0mresult\u001b[0m \u001b[1;33m=\u001b[0m \u001b[0mlibops\u001b[0m\u001b[1;33m.\u001b[0m\u001b[0mvec_compare\u001b[0m\u001b[1;33m(\u001b[0m\u001b[0mx\u001b[0m\u001b[1;33m.\u001b[0m\u001b[0mravel\u001b[0m\u001b[1;33m(\u001b[0m\u001b[1;33m)\u001b[0m\u001b[1;33m,\u001b[0m \u001b[0my\u001b[0m\u001b[1;33m.\u001b[0m\u001b[0mravel\u001b[0m\u001b[1;33m(\u001b[0m\u001b[1;33m)\u001b[0m\u001b[1;33m,\u001b[0m \u001b[0mop\u001b[0m\u001b[1;33m)\u001b[0m\u001b[1;33m\u001b[0m\u001b[1;33m\u001b[0m\u001b[0m\n\u001b[0;32m     54\u001b[0m     \u001b[1;32melse\u001b[0m\u001b[1;33m:\u001b[0m\u001b[1;33m\u001b[0m\u001b[1;33m\u001b[0m\u001b[0m\n\u001b[1;32m---> 55\u001b[1;33m         \u001b[0mresult\u001b[0m \u001b[1;33m=\u001b[0m \u001b[0mlibops\u001b[0m\u001b[1;33m.\u001b[0m\u001b[0mscalar_compare\u001b[0m\u001b[1;33m(\u001b[0m\u001b[0mx\u001b[0m\u001b[1;33m.\u001b[0m\u001b[0mravel\u001b[0m\u001b[1;33m(\u001b[0m\u001b[1;33m)\u001b[0m\u001b[1;33m,\u001b[0m \u001b[0my\u001b[0m\u001b[1;33m,\u001b[0m \u001b[0mop\u001b[0m\u001b[1;33m)\u001b[0m\u001b[1;33m\u001b[0m\u001b[1;33m\u001b[0m\u001b[0m\n\u001b[0m\u001b[0;32m     56\u001b[0m     \u001b[1;32mreturn\u001b[0m \u001b[0mresult\u001b[0m\u001b[1;33m.\u001b[0m\u001b[0mreshape\u001b[0m\u001b[1;33m(\u001b[0m\u001b[0mx\u001b[0m\u001b[1;33m.\u001b[0m\u001b[0mshape\u001b[0m\u001b[1;33m)\u001b[0m\u001b[1;33m\u001b[0m\u001b[1;33m\u001b[0m\u001b[0m\n\u001b[0;32m     57\u001b[0m \u001b[1;33m\u001b[0m\u001b[0m\n",
      "\u001b[1;32mpandas\\_libs\\ops.pyx\u001b[0m in \u001b[0;36mpandas._libs.ops.scalar_compare\u001b[1;34m()\u001b[0m\n",
      "\u001b[1;31mTypeError\u001b[0m: '>' not supported between instances of 'str' and 'int'"
     ]
    }
   ],
   "source": [
    "s.index > 5 ## 해당 index는 문자열(위치 인덱스 사용 X)\n"
   ]
  },
  {
   "cell_type": "code",
   "execution_count": 112,
   "id": "89815ab6",
   "metadata": {},
   "outputs": [
    {
     "data": {
      "text/plain": [
       "array([False, False, False, False, False,  True,  True,  True,  True,\n",
       "        True])"
      ]
     },
     "execution_count": 112,
     "metadata": {},
     "output_type": "execute_result"
    }
   ],
   "source": [
    "s0.index > 5 #s0의 인덱스 값을 추출해서 벡터화 연산 진행"
   ]
  },
  {
   "cell_type": "code",
   "execution_count": 59,
   "id": "a23f12d3",
   "metadata": {},
   "outputs": [
    {
     "data": {
      "text/plain": [
       "6     5\n",
       "7     6\n",
       "8     7\n",
       "9     8\n",
       "10    9\n",
       "dtype: int32"
      ]
     },
     "execution_count": 59,
     "metadata": {},
     "output_type": "execute_result"
    }
   ],
   "source": [
    "s0[s0.index  > 5]"
   ]
  },
  {
   "cell_type": "code",
   "execution_count": 60,
   "id": "c0992f36",
   "metadata": {},
   "outputs": [
    {
     "data": {
      "text/plain": [
       "1     False\n",
       "2     False\n",
       "3     False\n",
       "4     False\n",
       "5     False\n",
       "6     False\n",
       "7     False\n",
       "8      True\n",
       "9      True\n",
       "10     True\n",
       "dtype: bool"
      ]
     },
     "execution_count": 60,
     "metadata": {},
     "output_type": "execute_result"
    }
   ],
   "source": [
    "(s0>=7)"
   ]
  },
  {
   "cell_type": "code",
   "execution_count": 63,
   "id": "c1daa17e",
   "metadata": {},
   "outputs": [
    {
     "data": {
      "text/plain": [
       "3"
      ]
     },
     "execution_count": 63,
     "metadata": {},
     "output_type": "execute_result"
    }
   ],
   "source": [
    "(s0>=7).sum() # 각 원소에 대해서 조건식이 결과값이 True 갯수를 카운트"
   ]
  },
  {
   "cell_type": "code",
   "execution_count": 64,
   "id": "62460d85",
   "metadata": {},
   "outputs": [
    {
     "data": {
      "text/plain": [
       "8     7\n",
       "9     8\n",
       "10    9\n",
       "dtype: int32"
      ]
     },
     "execution_count": 64,
     "metadata": {},
     "output_type": "execute_result"
    }
   ],
   "source": [
    "s0[s0>=7]"
   ]
  },
  {
   "cell_type": "code",
   "execution_count": 65,
   "id": "00816c03",
   "metadata": {},
   "outputs": [
    {
     "data": {
      "text/plain": [
       "24"
      ]
     },
     "execution_count": 65,
     "metadata": {},
     "output_type": "execute_result"
    }
   ],
   "source": [
    "s0[s0>=7].sum() # 7+8+9 = 24의미   각 원소에 대입한 조건식의 결과 값"
   ]
  },
  {
   "cell_type": "markdown",
   "id": "978b8264",
   "metadata": {},
   "source": [
    "## 두 시리즈 간의 연산"
   ]
  },
  {
   "cell_type": "code",
   "execution_count": 66,
   "id": "f90d600d",
   "metadata": {},
   "outputs": [
    {
     "data": {
      "text/plain": [
       "a    1\n",
       "b    2\n",
       "c    3\n",
       "d    4\n",
       "dtype: int64"
      ]
     },
     "execution_count": 66,
     "metadata": {},
     "output_type": "execute_result"
    }
   ],
   "source": [
    "num_s1 = pd.Series([1,2,3,4], index=['a','b','c','d'])\n",
    "num_s2 = pd.Series([5,6,7,8], index=['b','c','d','a'])\n",
    "num_s1"
   ]
  },
  {
   "cell_type": "code",
   "execution_count": 123,
   "id": "9dc842ac",
   "metadata": {},
   "outputs": [
    {
     "data": {
      "text/plain": [
       "b    5\n",
       "c    6\n",
       "d    7\n",
       "a    8\n",
       "dtype: int64"
      ]
     },
     "execution_count": 123,
     "metadata": {},
     "output_type": "execute_result"
    }
   ],
   "source": [
    "num_s2"
   ]
  },
  {
   "cell_type": "code",
   "execution_count": 67,
   "id": "c80fb670",
   "metadata": {},
   "outputs": [
    {
     "data": {
      "text/plain": [
       "a     9\n",
       "b     7\n",
       "c     9\n",
       "d    11\n",
       "dtype: int64"
      ]
     },
     "execution_count": 67,
     "metadata": {},
     "output_type": "execute_result"
    }
   ],
   "source": [
    "num_s1 + num_s2  ## 동일한 인덱스 끼리 연산  #동일한 인덱스가 없으면 NaN 처리가 됨"
   ]
  },
  {
   "cell_type": "code",
   "execution_count": 69,
   "id": "af941897",
   "metadata": {},
   "outputs": [],
   "source": [
    "num_s3 = pd.Series([1,2,3,4], index=['e','f','g','a'])\n",
    "num_s4 = pd.Series([5,6,7,8], index=['a','f','c','d'])"
   ]
  },
  {
   "cell_type": "code",
   "execution_count": 70,
   "id": "9f073a87",
   "metadata": {},
   "outputs": [
    {
     "data": {
      "text/plain": [
       "a   -1.0\n",
       "c    NaN\n",
       "d    NaN\n",
       "e    NaN\n",
       "f   -4.0\n",
       "g    NaN\n",
       "dtype: float64"
      ]
     },
     "execution_count": 70,
     "metadata": {},
     "output_type": "execute_result"
    }
   ],
   "source": [
    "num_s3 - num_s4"
   ]
  },
  {
   "cell_type": "code",
   "execution_count": 71,
   "id": "375c529b",
   "metadata": {},
   "outputs": [
    {
     "data": {
      "text/plain": [
       "array([4, 4, 4, 4], dtype=int64)"
      ]
     },
     "execution_count": 71,
     "metadata": {},
     "output_type": "execute_result"
    }
   ],
   "source": [
    "num_s4.values - num_s3.values\n",
    "#values를 사용하면 시리즈의 형태가 사라지므로 동일한 위치의 원소들끼리 연산을 진행"
   ]
  },
  {
   "cell_type": "markdown",
   "id": "d27def94",
   "metadata": {},
   "source": [
    "## 딕셔너리와 시리즈의 관계\n",
    "- 시리즈 객체는 라벨(문자)에 의해 인덱싱이 가능\n",
    "- 실질적으로는 라벨을 key로 가지는 딕셔너리 형과 같다고 볼 수 있음\n",
    "- 딕셔너리에서 제공하는 대부분의 연산자 사용 가능\n",
    "    - in 연산자 : T/F\n",
    "    - for 루프를 통해 각 원소의 key와 value에 접근 할수 있다.\n"
   ]
  },
  {
   "cell_type": "markdown",
   "id": "a99037a3",
   "metadata": {},
   "source": [
    "## in 연산자 / for 반복문 사용"
   ]
  },
  {
   "cell_type": "code",
   "execution_count": 72,
   "id": "17b1e61d",
   "metadata": {},
   "outputs": [
    {
     "data": {
      "text/plain": [
       "부산     3393191\n",
       "인천     2632035\n",
       "서울    10000000\n",
       "대전     1490158\n",
       "dtype: int64"
      ]
     },
     "execution_count": 72,
     "metadata": {},
     "output_type": "execute_result"
    }
   ],
   "source": [
    "s"
   ]
  },
  {
   "cell_type": "code",
   "execution_count": 73,
   "id": "af6120fd",
   "metadata": {},
   "outputs": [
    {
     "data": {
      "text/plain": [
       "True"
      ]
     },
     "execution_count": 73,
     "metadata": {},
     "output_type": "execute_result"
    }
   ],
   "source": [
    "#인덱스에 서울이라는 원소가 있는지 확인\n",
    "\n",
    "'서울' in s"
   ]
  },
  {
   "cell_type": "code",
   "execution_count": 74,
   "id": "27a15b26",
   "metadata": {},
   "outputs": [
    {
     "data": {
      "text/plain": [
       "True"
      ]
     },
     "execution_count": 74,
     "metadata": {},
     "output_type": "execute_result"
    }
   ],
   "source": [
    "'대구' not in s"
   ]
  },
  {
   "cell_type": "code",
   "execution_count": 78,
   "id": "75e4ca01",
   "metadata": {},
   "outputs": [
    {
     "data": {
      "text/plain": [
       "<zip at 0x2477e66ad40>"
      ]
     },
     "execution_count": 78,
     "metadata": {},
     "output_type": "execute_result"
    }
   ],
   "source": [
    "## 딕셔너리의 items()함수 시리즈에서도 사용 가능 하지만 zip 형태로 출력\n",
    "s.items()\n"
   ]
  },
  {
   "cell_type": "code",
   "execution_count": 79,
   "id": "3019e47b",
   "metadata": {},
   "outputs": [
    {
     "data": {
      "text/plain": [
       "[('부산', 3393191), ('인천', 2632035), ('서울', 10000000), ('대전', 1490158)]"
      ]
     },
     "execution_count": 79,
     "metadata": {},
     "output_type": "execute_result"
    }
   ],
   "source": [
    "list(s.items()) #리스트로 묶어주면 key value 확인 가능"
   ]
  },
  {
   "cell_type": "code",
   "execution_count": 80,
   "id": "de4d2ba4",
   "metadata": {},
   "outputs": [
    {
     "name": "stdout",
     "output_type": "stream",
     "text": [
      "부산 = 3393191\n",
      "인천 = 2632035\n",
      "서울 = 10000000\n",
      "대전 = 1490158\n"
     ]
    }
   ],
   "source": [
    "## 반복문을 활용해서 시리즈 각 원소 출력 코드\n",
    "\n",
    "for k,v in s.items():\n",
    "    print('%s = %d' %(k,v))"
   ]
  },
  {
   "cell_type": "code",
   "execution_count": null,
   "id": "153770a5",
   "metadata": {},
   "outputs": [],
   "source": []
  },
  {
   "cell_type": "markdown",
   "id": "851499c7",
   "metadata": {},
   "source": [
    "## 시리즈 데이터의 갱신/추가/삭제\n",
    "\n",
    "- 인덱싱을 이용하면 딕셔너리 처럼 갱신 추가\n"
   ]
  },
  {
   "cell_type": "code",
   "execution_count": 86,
   "id": "06038892",
   "metadata": {},
   "outputs": [
    {
     "data": {
      "text/plain": [
       "부산     8630000\n",
       "인천     2632035\n",
       "서울    10000000\n",
       "대전     1490158\n",
       "dtype: int64"
      ]
     },
     "execution_count": 86,
     "metadata": {},
     "output_type": "execute_result"
    },
    {
     "data": {
      "text/plain": [
       "8630000"
      ]
     },
     "execution_count": 86,
     "metadata": {},
     "output_type": "execute_result"
    }
   ],
   "source": [
    "s['부산'] =  8630000\n",
    "s\n",
    "s['부산']"
   ]
  },
  {
   "cell_type": "code",
   "execution_count": 87,
   "id": "d98cf23c",
   "metadata": {},
   "outputs": [
    {
     "data": {
      "text/plain": [
       "부산     8630000\n",
       "인천     2632035\n",
       "서울    10000000\n",
       "대전     1490158\n",
       "대구     1875000\n",
       "dtype: int64"
      ]
     },
     "execution_count": 87,
     "metadata": {},
     "output_type": "execute_result"
    }
   ],
   "source": [
    "#새로운 대이터 추가\n",
    "s['대구'] = 1875000\n",
    "s"
   ]
  },
  {
   "cell_type": "code",
   "execution_count": 88,
   "id": "bae43c5d",
   "metadata": {},
   "outputs": [
    {
     "data": {
      "text/plain": [
       "부산     8630000\n",
       "인천     2632035\n",
       "서울    10000000\n",
       "대전     1490158\n",
       "대구     1875000\n",
       "dtype: int64"
      ]
     },
     "execution_count": 88,
     "metadata": {},
     "output_type": "execute_result"
    },
    {
     "data": {
      "text/plain": [
       "부산     8630000\n",
       "인천     2632035\n",
       "서울    10000000\n",
       "대구     1875000\n",
       "dtype: int64"
      ]
     },
     "execution_count": 88,
     "metadata": {},
     "output_type": "execute_result"
    }
   ],
   "source": [
    "## 시리즈 데이터 삭제\n",
    "s\n",
    "del s['대전']\n",
    "s"
   ]
  },
  {
   "cell_type": "code",
   "execution_count": 89,
   "id": "66574e52",
   "metadata": {},
   "outputs": [
    {
     "data": {
      "text/plain": [
       "부산     8630000\n",
       "인천     2632035\n",
       "서울    10000000\n",
       "대구     1875000\n",
       "dtype: int64"
      ]
     },
     "execution_count": 89,
     "metadata": {},
     "output_type": "execute_result"
    }
   ],
   "source": [
    "s['서울'] = 10000000\n",
    "s['인천'] = 2632035\n",
    "s['부산'] = 8630000\n",
    "s['대구'] = 1875000\n",
    "s"
   ]
  },
  {
   "cell_type": "markdown",
   "id": "a59e2ef2",
   "metadata": {},
   "source": [
    "## **Series size, shape, unique, count, value_counts 함수**\n",
    " - size : 개수 반환\n",
    " - shape : 튜플형태로 shape반환\n",
    " - unique: 유일한 값만 ndarray로 반환\n",
    " - count : NaN을 제외한 개수를 반환\n",
    " - mean: NaN을 제외한 평균 \n",
    " - value_counts: NaN을 제외하고 각 값들의 빈도를 반환\n"
   ]
  },
  {
   "cell_type": "code",
   "execution_count": 90,
   "id": "80ca7848",
   "metadata": {},
   "outputs": [
    {
     "data": {
      "text/plain": [
       "0     1.0\n",
       "1     1.0\n",
       "2     2.0\n",
       "3     1.0\n",
       "4     2.0\n",
       "5     2.0\n",
       "6     2.0\n",
       "7     1.0\n",
       "8     1.0\n",
       "9     3.0\n",
       "10    3.0\n",
       "11    4.0\n",
       "12    5.0\n",
       "13    5.0\n",
       "14    7.0\n",
       "15    NaN\n",
       "dtype: float64"
      ]
     },
     "execution_count": 90,
     "metadata": {},
     "output_type": "execute_result"
    }
   ],
   "source": [
    "s1 = pd.Series([1, 1, 2, 1, 2, 2, 2, 1, 1, 3, 3, 4, 5, 5, 7, np.NaN])\n",
    "s1\n"
   ]
  },
  {
   "cell_type": "code",
   "execution_count": 91,
   "id": "75d6ebcc",
   "metadata": {},
   "outputs": [
    {
     "data": {
      "text/plain": [
       "16"
      ]
     },
     "execution_count": 91,
     "metadata": {},
     "output_type": "execute_result"
    }
   ],
   "source": [
    "len(s1) # Nan 포함"
   ]
  },
  {
   "cell_type": "code",
   "execution_count": 92,
   "id": "6276cdfc",
   "metadata": {},
   "outputs": [
    {
     "data": {
      "text/plain": [
       "16"
      ]
     },
     "execution_count": 92,
     "metadata": {},
     "output_type": "execute_result"
    }
   ],
   "source": [
    "s1.size #NaN 값 포함"
   ]
  },
  {
   "cell_type": "code",
   "execution_count": 97,
   "id": "545bc1a8",
   "metadata": {},
   "outputs": [
    {
     "data": {
      "text/plain": [
       "(16,)"
      ]
     },
     "execution_count": 97,
     "metadata": {},
     "output_type": "execute_result"
    }
   ],
   "source": [
    "# .sahpre 는 해당 값이 어떤 행렬로 구성되어 있는지 알려주는 기능\n",
    "s1.shape #차원을 표현하기 때문에 튜플형태로 출력"
   ]
  },
  {
   "cell_type": "code",
   "execution_count": 98,
   "id": "fa449508",
   "metadata": {},
   "outputs": [
    {
     "data": {
      "text/plain": [
       "array([ 1.,  2.,  3.,  4.,  5.,  7., nan])"
      ]
     },
     "execution_count": 98,
     "metadata": {},
     "output_type": "execute_result"
    }
   ],
   "source": [
    "s1.unique() # 중복된 값을 제거한 원소값 출력"
   ]
  },
  {
   "cell_type": "code",
   "execution_count": 99,
   "id": "98f76e25",
   "metadata": {},
   "outputs": [
    {
     "data": {
      "text/plain": [
       "15"
      ]
     },
     "execution_count": 99,
     "metadata": {},
     "output_type": "execute_result"
    }
   ],
   "source": [
    "s1.count() #NaN 값을 제거한 원소의 개수"
   ]
  },
  {
   "cell_type": "code",
   "execution_count": 100,
   "id": "d1b0e3b0",
   "metadata": {},
   "outputs": [
    {
     "data": {
      "text/plain": [
       "nan"
      ]
     },
     "execution_count": 100,
     "metadata": {},
     "output_type": "execute_result"
    },
    {
     "data": {
      "text/plain": [
       "2.0"
      ]
     },
     "execution_count": 100,
     "metadata": {},
     "output_type": "execute_result"
    }
   ],
   "source": [
    "a=np.array([2,2,2,2,2,np.NaN]) #결측치 1개를 포함\n",
    "b=pd.Series(a)\n",
    "a.mean() # np의 array를 평균 계산  - nan() 포함되면 계산 불가(nan 반환)\n",
    "b.mean() # 기본 nan 값을 제외시키고 계산하도록"
   ]
  },
  {
   "cell_type": "code",
   "execution_count": 101,
   "id": "93baf5bd",
   "metadata": {},
   "outputs": [
    {
     "data": {
      "text/plain": [
       "2.6666666666666665"
      ]
     },
     "execution_count": 101,
     "metadata": {},
     "output_type": "execute_result"
    }
   ],
   "source": [
    "s1.mean()"
   ]
  },
  {
   "cell_type": "code",
   "execution_count": 102,
   "id": "c7547bfa",
   "metadata": {},
   "outputs": [
    {
     "data": {
      "text/plain": [
       "0     1.0\n",
       "1     1.0\n",
       "2     2.0\n",
       "3     1.0\n",
       "4     2.0\n",
       "5     2.0\n",
       "6     2.0\n",
       "7     1.0\n",
       "8     1.0\n",
       "9     3.0\n",
       "10    3.0\n",
       "11    4.0\n",
       "12    5.0\n",
       "13    5.0\n",
       "14    7.0\n",
       "15    NaN\n",
       "dtype: float64"
      ]
     },
     "execution_count": 102,
     "metadata": {},
     "output_type": "execute_result"
    }
   ],
   "source": [
    "s1"
   ]
  },
  {
   "cell_type": "code",
   "execution_count": 103,
   "id": "f8ba7dc5",
   "metadata": {},
   "outputs": [
    {
     "data": {
      "text/plain": [
       "1.0    5\n",
       "2.0    4\n",
       "3.0    2\n",
       "5.0    2\n",
       "7.0    1\n",
       "4.0    1\n",
       "dtype: int64"
      ]
     },
     "execution_count": 103,
     "metadata": {},
     "output_type": "execute_result"
    }
   ],
   "source": [
    "s1.value_counts() #각원소들을 같은 값끼리 그룹을 만들고 개수를 세서 반환"
   ]
  },
  {
   "cell_type": "code",
   "execution_count": null,
   "id": "5722c7fe",
   "metadata": {},
   "outputs": [],
   "source": []
  }
 ],
 "metadata": {
  "kernelspec": {
   "display_name": "Python 3",
   "language": "python",
   "name": "python3"
  },
  "language_info": {
   "codemirror_mode": {
    "name": "ipython",
    "version": 3
   },
   "file_extension": ".py",
   "mimetype": "text/x-python",
   "name": "python",
   "nbconvert_exporter": "python",
   "pygments_lexer": "ipython3",
   "version": "3.8.8"
  }
 },
 "nbformat": 4,
 "nbformat_minor": 5
}

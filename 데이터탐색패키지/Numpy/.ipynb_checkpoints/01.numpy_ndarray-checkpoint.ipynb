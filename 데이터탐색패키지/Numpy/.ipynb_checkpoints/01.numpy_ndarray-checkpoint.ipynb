{
 "cells": [
  {
   "cell_type": "code",
   "execution_count": 1,
   "id": "f4d94dcf",
   "metadata": {},
   "outputs": [],
   "source": [
    "import numpy as np\n",
    "import matplotlib.pyplot as plt"
   ]
  },
  {
   "cell_type": "code",
   "execution_count": 14,
   "id": "0ad9f66d",
   "metadata": {},
   "outputs": [],
   "source": [
    "# 콘솔에서 모든 출력 허용하기\n",
    "from IPython.core.interactiveshell import InteractiveShell\n",
    "InteractiveShell.ast_node_interactivity=\"all\""
   ]
  },
  {
   "cell_type": "markdown",
   "id": "3062689d",
   "metadata": {},
   "source": [
    "## array\n",
    "- 많은 숫자 데이터를 하나의 변수에 넣고 관리 할 때 리스트는 속도가 느리고 메모리를 많이 차지하는 단점이 있다. \n",
    "- 배열(array)을 사용하면 적은 메모리로 많은 데이터를 빠르게 처리할 수 있다. \n",
    "- 배열은 리스트와 비슷하지만 다음과 같은 점에서 다르다.\n",
    "\n",
    "    - 모든 원소가 같은 자료형이어야 한다.\n",
    "\n",
    "    - 원소의 갯수를 바꿀 수 없다.\n",
    "\n",
    "- 넘파이의 array 함수에 리스트를 넣으면 ndarray 클래스 객체 즉, 배열로 변환해 준다. \n",
    "- np.array([값1, 값2, ...])\n"
   ]
  },
  {
   "cell_type": "code",
   "execution_count": 4,
   "id": "227a77ac",
   "metadata": {},
   "outputs": [
    {
     "name": "stdout",
     "output_type": "stream",
     "text": [
      "[1 2 3] <class 'numpy.ndarray'>\n",
      "[4 5 6] <class 'numpy.ndarray'>\n"
     ]
    }
   ],
   "source": [
    "x=np.array([1,2,3])\n",
    "y=np.array([4,5,6])\n",
    "\n",
    "print(x,type(x))\n",
    "print(y,type(y))"
   ]
  },
  {
   "cell_type": "code",
   "execution_count": 5,
   "id": "0e578fad",
   "metadata": {},
   "outputs": [
    {
     "data": {
      "text/plain": [
       "[<matplotlib.lines.Line2D at 0x16c053a7ac0>]"
      ]
     },
     "execution_count": 5,
     "metadata": {},
     "output_type": "execute_result"
    },
    {
     "data": {
      "image/png": "[encoded data removed]",
      "text/plain": [
       "<Figure size 432x288 with 1 Axes>"
      ]
     },
     "metadata": {
      "needs_background": "light"
     },
     "output_type": "display_data"
    }
   ],
   "source": [
    "plt.plot(x,y)"
   ]
  },
  {
   "cell_type": "markdown",
   "id": "6d3528a1",
   "metadata": {},
   "source": [
    "## 다양한 방법으로 Darray 생성\n",
    "1) np.array() \n",
    "2) np.arange() \n",
    "3) np.ones(), np.zero()\n",
    "4) np.empty(), np.full()"
   ]
  },
  {
   "cell_type": "code",
   "execution_count": null,
   "id": "061bc3e4",
   "metadata": {},
   "outputs": [],
   "source": [
    "1. np.array() "
   ]
  },
  {
   "cell_type": "code",
   "execution_count": 6,
   "id": "60f4277d",
   "metadata": {},
   "outputs": [
    {
     "name": "stdout",
     "output_type": "stream",
     "text": [
      "[1 2 3 4]\n"
     ]
    }
   ],
   "source": [
    "x = np.array([1,2,3,4])\n",
    "print(x)"
   ]
  },
  {
   "cell_type": "code",
   "execution_count": 9,
   "id": "3a167467",
   "metadata": {},
   "outputs": [
    {
     "name": "stdout",
     "output_type": "stream",
     "text": [
      "[[1 2 3 4]\n",
      " [5 6 7 8]]\n",
      "[[1 2 3 4]\n",
      " [5 6 7 8]] <class 'numpy.ndarray'>\n"
     ]
    }
   ],
   "source": [
    "y = np.array([[1,2,3,4],[5,6,7,8]])\n",
    "print(y)\n",
    "print(y,type(y))"
   ]
  },
  {
   "cell_type": "code",
   "execution_count": null,
   "id": "c1f49b94",
   "metadata": {},
   "outputs": [],
   "source": [
    "2. np.arange() "
   ]
  },
  {
   "cell_type": "code",
   "execution_count": 10,
   "id": "db193646",
   "metadata": {},
   "outputs": [
    {
     "data": {
      "text/plain": [
       "array([0, 1, 2, 3, 4, 5, 6, 7, 8, 9])"
      ]
     },
     "execution_count": 10,
     "metadata": {},
     "output_type": "execute_result"
    }
   ],
   "source": [
    "np.arange(10)"
   ]
  },
  {
   "cell_type": "code",
   "execution_count": 11,
   "id": "91ab4642",
   "metadata": {},
   "outputs": [
    {
     "data": {
      "text/plain": [
       "array([1, 2, 3, 4, 5, 6, 7, 8, 9])"
      ]
     },
     "execution_count": 11,
     "metadata": {},
     "output_type": "execute_result"
    }
   ],
   "source": [
    "np.arange(1,10)"
   ]
  },
  {
   "cell_type": "code",
   "execution_count": 15,
   "id": "19be37fb",
   "metadata": {},
   "outputs": [
    {
     "data": {
      "text/plain": [
       "array([1, 3, 5, 7, 9])"
      ]
     },
     "execution_count": 15,
     "metadata": {},
     "output_type": "execute_result"
    },
    {
     "data": {
      "text/plain": [
       "array([  5,  10,  15,  20,  25,  30,  35,  40,  45,  50,  55,  60,  65,\n",
       "        70,  75,  80,  85,  90,  95, 100])"
      ]
     },
     "execution_count": 15,
     "metadata": {},
     "output_type": "execute_result"
    }
   ],
   "source": [
    "np.arange(1,10,2)\n",
    "np.arange(5,101,5)"
   ]
  },
  {
   "cell_type": "code",
   "execution_count": null,
   "id": "5612c44c",
   "metadata": {},
   "outputs": [],
   "source": [
    "3. np.ones(), np.zero()"
   ]
  },
  {
   "cell_type": "code",
   "execution_count": 21,
   "id": "103e81e2",
   "metadata": {},
   "outputs": [
    {
     "data": {
      "text/plain": [
       "array([1., 1., 1., 1.])"
      ]
     },
     "execution_count": 21,
     "metadata": {},
     "output_type": "execute_result"
    },
    {
     "data": {
      "text/plain": [
       "array([0., 0., 0., 0., 0., 0.])"
      ]
     },
     "execution_count": 21,
     "metadata": {},
     "output_type": "execute_result"
    }
   ],
   "source": [
    "np.ones(4) #array의 언소값을 1로 초기화\n",
    "np.zeros(6) #array의 언소값을 0으로 초기화"
   ]
  },
  {
   "cell_type": "code",
   "execution_count": 22,
   "id": "ca2028c8",
   "metadata": {},
   "outputs": [
    {
     "data": {
      "text/plain": [
       "array([[0., 0., 0., 0., 0.],\n",
       "       [0., 0., 0., 0., 0.]])"
      ]
     },
     "execution_count": 22,
     "metadata": {},
     "output_type": "execute_result"
    }
   ],
   "source": [
    "np.zeros((2,5))"
   ]
  },
  {
   "cell_type": "code",
   "execution_count": null,
   "id": "35834d55",
   "metadata": {},
   "outputs": [],
   "source": [
    "4. np.empty(), np.full()\n",
    "\n",
    "- np.empty([행,열], dtype=배열타입)\n",
    "    - numpy.empty 함수는 (값의 초기화를 수행하지 않고) 주어진 형태와 타입을 갖는 새로운 arrayfmf 반환\n",
    "    - 초기화되지 않으므로 수행 속도는 빠름 (추후에 값을 정의해줘야 함)\n",
    "\n",
    "- np.full((행,열), 기입할 값)\n"
   ]
  },
  {
   "cell_type": "code",
   "execution_count": 27,
   "id": "02bb34b4",
   "metadata": {},
   "outputs": [
    {
     "data": {
      "text/plain": [
       "array([[1., 1.],\n",
       "       [1., 1.]])"
      ]
     },
     "execution_count": 27,
     "metadata": {},
     "output_type": "execute_result"
    },
    {
     "data": {
      "text/plain": [
       "array([[         0, 2146435072],\n",
       "       [         0, 2146435072]])"
      ]
     },
     "execution_count": 27,
     "metadata": {},
     "output_type": "execute_result"
    }
   ],
   "source": [
    "a = np.empty([2,2])\n",
    "b = np.empty([2,2], dtype=int)\n",
    "a\n",
    "b"
   ]
  },
  {
   "cell_type": "code",
   "execution_count": 31,
   "id": "96fccf87",
   "metadata": {},
   "outputs": [
    {
     "data": {
      "text/plain": [
       "array([[7, 7, 7, 7, 7],\n",
       "       [7, 7, 7, 7, 7],\n",
       "       [7, 7, 7, 7, 7]])"
      ]
     },
     "execution_count": 31,
     "metadata": {},
     "output_type": "execute_result"
    }
   ],
   "source": [
    "a = np.full((3,5), 7)\n",
    "a"
   ]
  },
  {
   "cell_type": "code",
   "execution_count": null,
   "id": "4e03e66f",
   "metadata": {},
   "outputs": [],
   "source": [
    "5. np.eye(n, k=m)로 생성하기\n",
    "- 단위 행렬 생성 : 대각선이 1, 나머지는 0으로 채워지는 행렬\n",
    "- n: 행,렬 / k=1|0|-1"
   ]
  },
  {
   "cell_type": "code",
   "execution_count": 36,
   "id": "886e07cd",
   "metadata": {},
   "outputs": [
    {
     "data": {
      "text/plain": [
       "array([[1., 0., 0.],\n",
       "       [0., 1., 0.],\n",
       "       [0., 0., 1.]])"
      ]
     },
     "execution_count": 36,
     "metadata": {},
     "output_type": "execute_result"
    },
    {
     "data": {
      "text/plain": [
       "array([[0., 1., 0.],\n",
       "       [0., 0., 1.],\n",
       "       [0., 0., 0.]])"
      ]
     },
     "execution_count": 36,
     "metadata": {},
     "output_type": "execute_result"
    },
    {
     "data": {
      "text/plain": [
       "array([[0., 0., 1.],\n",
       "       [0., 0., 0.],\n",
       "       [0., 0., 0.]])"
      ]
     },
     "execution_count": 36,
     "metadata": {},
     "output_type": "execute_result"
    },
    {
     "data": {
      "text/plain": [
       "array([[0., 0., 0.],\n",
       "       [1., 0., 0.],\n",
       "       [0., 1., 0.]])"
      ]
     },
     "execution_count": 36,
     "metadata": {},
     "output_type": "execute_result"
    }
   ],
   "source": [
    "np.eye(3) #k=0\n",
    "np.eye(3,k=1) #k=1 #위로 한칸\n",
    "np.eye(3,k=2) #k=1 #위로 두칸\n",
    "np.eye(3,k=-1) #k=-1"
   ]
  },
  {
   "cell_type": "code",
   "execution_count": null,
   "id": "becb82bd",
   "metadata": {},
   "outputs": [],
   "source": [
    "6. np.linspace\n",
    "- numpy.linspace(start, stop, num=50)\n",
    "- 지정된 간격 동안 균일한 간격의 숫자를 반환\n",
    "- 반환 num 구간 [위에 계산 균등 샘플 start, stop]"
   ]
  },
  {
   "cell_type": "code",
   "execution_count": 38,
   "id": "48767995",
   "metadata": {},
   "outputs": [
    {
     "data": {
      "text/plain": [
       "array([ 1. ,  5.5, 10. ])"
      ]
     },
     "execution_count": 38,
     "metadata": {},
     "output_type": "execute_result"
    },
    {
     "data": {
      "text/plain": [
       "array([ 1.,  4.,  7., 10.])"
      ]
     },
     "execution_count": 38,
     "metadata": {},
     "output_type": "execute_result"
    },
    {
     "data": {
      "text/plain": [
       "array([ 2.,  4.,  6.,  8., 10.])"
      ]
     },
     "execution_count": 38,
     "metadata": {},
     "output_type": "execute_result"
    }
   ],
   "source": [
    "np.linspace(1,10,3)\n",
    "np.linspace(1,10,4)\n",
    "np.linspace(2,10,5)"
   ]
  },
  {
   "cell_type": "markdown",
   "id": "08fbbed2",
   "metadata": {},
   "source": [
    "## reshape 함수\n",
    "- ndarray의 형태, 차원을 바꾸기 위해 사용"
   ]
  },
  {
   "cell_type": "code",
   "execution_count": 41,
   "id": "57e3b54c",
   "metadata": {},
   "outputs": [
    {
     "data": {
      "text/plain": [
       "array([ 1,  2,  3,  4,  5,  6,  7,  8,  9, 10, 11, 12, 13, 14, 15])"
      ]
     },
     "execution_count": 41,
     "metadata": {},
     "output_type": "execute_result"
    },
    {
     "data": {
      "text/plain": [
       "array([[ 1,  2,  3,  4,  5],\n",
       "       [ 6,  7,  8,  9, 10],\n",
       "       [11, 12, 13, 14, 15]])"
      ]
     },
     "execution_count": 41,
     "metadata": {},
     "output_type": "execute_result"
    }
   ],
   "source": [
    "x = np.arange(1,16)\n",
    "x\n",
    "x.reshape(3,5)"
   ]
  },
  {
   "cell_type": "markdown",
   "id": "2f2b656c",
   "metadata": {},
   "source": [
    "## random 서브 모듈 함수를 통해 ndarray 생성"
   ]
  },
  {
   "cell_type": "markdown",
   "id": "74e4bcee",
   "metadata": {},
   "source": [
    "## random 서브 모듈\n",
    "- rand 함수\n",
    "    - 0,1 사이의 분포로 random한 ndarray 생성"
   ]
  },
  {
   "cell_type": "code",
   "execution_count": 46,
   "id": "259a4322",
   "metadata": {},
   "outputs": [
    {
     "data": {
      "text/plain": [
       "array([0.92435027, 0.83414283, 0.76056594, 0.78270451])"
      ]
     },
     "execution_count": 46,
     "metadata": {},
     "output_type": "execute_result"
    },
    {
     "data": {
      "text/plain": [
       "array([[0.17515335, 0.16521709, 0.17182455, 0.66629527, 0.18491174],\n",
       "       [0.25989647, 0.30821685, 0.19185525, 0.81331661, 0.55379778],\n",
       "       [0.47981777, 0.80297767, 0.34149978, 0.86636677, 0.53851097],\n",
       "       [0.79510039, 0.5551611 , 0.36912005, 0.29994105, 0.7507438 ]])"
      ]
     },
     "execution_count": 46,
     "metadata": {},
     "output_type": "execute_result"
    },
    {
     "data": {
      "text/plain": [
       "array([[[1.03185118e-01, 3.05027621e-01, 8.71082902e-01],\n",
       "        [6.27443004e-01, 4.01079452e-01, 3.48400402e-01],\n",
       "        [9.51961684e-02, 7.72203701e-01, 8.70210539e-01],\n",
       "        [6.46565278e-02, 3.21656800e-01, 9.72119361e-01],\n",
       "        [8.72566671e-02, 2.31273666e-01, 6.90915536e-01]],\n",
       "\n",
       "       [[8.32370318e-01, 7.57334162e-01, 5.55202267e-01],\n",
       "        [5.62493657e-01, 8.33617673e-01, 8.68697174e-01],\n",
       "        [8.38007814e-01, 1.20251877e-01, 6.06772724e-01],\n",
       "        [6.70219353e-04, 7.87749694e-01, 6.79360610e-01],\n",
       "        [6.87568847e-01, 9.46873680e-02, 5.89367430e-02]],\n",
       "\n",
       "       [[7.56290338e-01, 3.86670745e-01, 4.17356345e-01],\n",
       "        [1.40394586e-01, 3.78005096e-01, 9.91518878e-02],\n",
       "        [1.04708479e-01, 3.33756770e-01, 4.76314801e-01],\n",
       "        [4.99768395e-01, 4.44237730e-01, 2.88342235e-01],\n",
       "        [2.09405259e-01, 3.04500801e-01, 1.61244907e-01]],\n",
       "\n",
       "       [[2.87907694e-02, 5.34039209e-01, 5.37673622e-01],\n",
       "        [5.80250056e-01, 4.31712746e-01, 7.71047320e-01],\n",
       "        [2.23720124e-01, 5.89048849e-02, 9.83174086e-01],\n",
       "        [1.06211448e-01, 1.28287243e-01, 4.80625846e-01],\n",
       "        [6.86253461e-01, 2.15645020e-01, 2.72680580e-01]]])"
      ]
     },
     "execution_count": 46,
     "metadata": {},
     "output_type": "execute_result"
    }
   ],
   "source": [
    "np.random.rand(4)\n",
    "np.random.rand(4,5) #4*5 행렬\n",
    "np.random.rand(4,5,3) # (5행 3열) *4개 표현"
   ]
  },
  {
   "cell_type": "code",
   "execution_count": 48,
   "id": "e718bc56",
   "metadata": {},
   "outputs": [
    {
     "data": {
      "text/plain": [
       "array([[[0.1605332 , 0.72064788, 0.27065919],\n",
       "        [0.23633276, 0.67840184, 0.23848975],\n",
       "        [0.0116338 , 0.8661849 , 0.5727117 ],\n",
       "        [0.12421077, 0.23346409, 0.45700347],\n",
       "        [0.8085592 , 0.15834528, 0.55361362]],\n",
       "\n",
       "       [[0.70643347, 0.88684218, 0.5335258 ],\n",
       "        [0.15823489, 0.42966329, 0.76518737],\n",
       "        [0.53897275, 0.06652268, 0.8554818 ],\n",
       "        [0.04581457, 0.10009552, 0.91581605],\n",
       "        [0.33844916, 0.01180819, 0.36792508]],\n",
       "\n",
       "       [[0.30573305, 0.62189625, 0.8248217 ],\n",
       "        [0.89910336, 0.50684757, 0.76825863],\n",
       "        [0.95752092, 0.6444693 , 0.85962077],\n",
       "        [0.65999212, 0.48673339, 0.829541  ],\n",
       "        [0.73719341, 0.90189839, 0.72888954]],\n",
       "\n",
       "       [[0.04866262, 0.15752265, 0.28135009],\n",
       "        [0.70689892, 0.69763508, 0.24592232],\n",
       "        [0.51619309, 0.49557675, 0.86494852],\n",
       "        [0.13490342, 0.51326097, 0.91044009],\n",
       "        [0.96089077, 0.14167676, 0.81731135]]])"
      ]
     },
     "execution_count": 48,
     "metadata": {},
     "output_type": "execute_result"
    },
    {
     "data": {
      "text/plain": [
       "array([[0.1605332 , 0.72064788, 0.27065919],\n",
       "       [0.23633276, 0.67840184, 0.23848975],\n",
       "       [0.0116338 , 0.8661849 , 0.5727117 ],\n",
       "       [0.12421077, 0.23346409, 0.45700347],\n",
       "       [0.8085592 , 0.15834528, 0.55361362]])"
      ]
     },
     "execution_count": 48,
     "metadata": {},
     "output_type": "execute_result"
    }
   ],
   "source": [
    "a = np.random.rand(4,5,3)\n",
    "a\n",
    "a[0]"
   ]
  },
  {
   "cell_type": "markdown",
   "id": "28930f7f",
   "metadata": {},
   "source": [
    "## randn 함수\n",
    "- n : normal distribution(정규분포)\n",
    "- 정규분포로 샘플링된 데이터"
   ]
  },
  {
   "cell_type": "code",
   "execution_count": 53,
   "id": "940fc354",
   "metadata": {},
   "outputs": [
    {
     "data": {
      "text/plain": [
       "-0.17985962427139843"
      ]
     },
     "execution_count": 53,
     "metadata": {},
     "output_type": "execute_result"
    },
    {
     "data": {
      "text/plain": [
       "array([ 9.86504592e-01,  1.85934492e-01, -4.24056784e-01, -3.59991379e-02,\n",
       "       -5.67999830e-04])"
      ]
     },
     "execution_count": 53,
     "metadata": {},
     "output_type": "execute_result"
    },
    {
     "data": {
      "text/plain": [
       "array([[ 2.27136054, -0.51146459,  1.22133034, -0.62585997,  0.63453554],\n",
       "       [ 1.05655959,  0.90411965,  0.33980118, -0.89095512, -0.57538076],\n",
       "       [-1.29031516, -1.06658721, -1.29571193,  1.80278757, -0.61508776]])"
      ]
     },
     "execution_count": 53,
     "metadata": {},
     "output_type": "execute_result"
    },
    {
     "data": {
      "text/plain": [
       "array([[[ 0.37298921, -0.69072293, -0.94126252,  1.25235117,\n",
       "          0.07025844],\n",
       "        [-0.94452976,  1.46518296, -2.07691374,  0.27253069,\n",
       "         -0.3186844 ],\n",
       "        [ 1.30556777, -0.92723611, -0.28036692, -0.46939881,\n",
       "         -0.6942055 ]],\n",
       "\n",
       "       [[-0.50652808, -0.76874587, -1.74405885, -1.45063517,\n",
       "         -1.80893208],\n",
       "        [ 1.14040685,  0.01264565,  1.29370671, -0.11014342,\n",
       "         -0.60026423],\n",
       "        [-0.94555196,  0.34944221,  1.12470815, -1.08127037,\n",
       "         -1.31909549]]])"
      ]
     },
     "execution_count": 53,
     "metadata": {},
     "output_type": "execute_result"
    }
   ],
   "source": [
    "np.random.randn()\n",
    "np.random.randn(5)\n",
    "np.random.randn(3,5)\n",
    "np.random.randn(2,3,5)"
   ]
  },
  {
   "cell_type": "markdown",
   "id": "56b1c428",
   "metadata": {},
   "source": [
    "## randint()\n",
    "- 특정 정수 사이에서 램덤하게 샘플링"
   ]
  },
  {
   "cell_type": "code",
   "execution_count": 55,
   "id": "fdc0a2a5",
   "metadata": {},
   "outputs": [
    {
     "data": {
      "text/plain": [
       "array([84, 41, 47, 27, 71])"
      ]
     },
     "execution_count": 55,
     "metadata": {},
     "output_type": "execute_result"
    }
   ],
   "source": [
    "np.random.randint(1,100, size=(5,))"
   ]
  },
  {
   "cell_type": "markdown",
   "id": "59db353e",
   "metadata": {},
   "source": [
    "## seed 함수\n",
    "-램던한 값을 동일하게 다시 생성하고자 할 때 사용"
   ]
  },
  {
   "cell_type": "code",
   "execution_count": 60,
   "id": "52d91326",
   "metadata": {},
   "outputs": [
    {
     "data": {
      "text/plain": [
       "array([[ 0.66698806,  0.02581308, -0.77761941,  0.94863382],\n",
       "       [ 0.70167179, -1.05108156, -0.36754812, -1.13745969],\n",
       "       [-1.32214752,  1.77225828, -0.34745899,  0.67014016]])"
      ]
     },
     "execution_count": 60,
     "metadata": {},
     "output_type": "execute_result"
    }
   ],
   "source": [
    "np.random.seed(23)\n",
    "np.random.randn(3,4)"
   ]
  },
  {
   "cell_type": "markdown",
   "id": "66719387",
   "metadata": {},
   "source": [
    "## 확률 분포에 따른 ndarray 생성 함수\n",
    "- uniform - 이산형 정규분포\n",
    "- normal - 정규분포\n",
    "- 기타 등등"
   ]
  },
  {
   "cell_type": "code",
   "execution_count": 62,
   "id": "f34498f2",
   "metadata": {},
   "outputs": [
    {
     "data": {
      "text/plain": [
       "array([[2.17916373, 2.95685383, 2.69018764, 1.13015088, 1.58948893],\n",
       "       [1.57586888, 2.64493268, 2.25236608, 1.22095543, 1.00105762],\n",
       "       [2.88433247, 1.28300152, 1.84319305, 1.69297888, 2.73957017],\n",
       "       [1.85720362, 2.65750297, 2.43570368, 1.23845339, 2.19276835]])"
      ]
     },
     "execution_count": 62,
     "metadata": {},
     "output_type": "execute_result"
    }
   ],
   "source": [
    "np.random.uniform(1.0,3.0,size=(4,5))"
   ]
  },
  {
   "cell_type": "code",
   "execution_count": 64,
   "id": "15331fe8",
   "metadata": {},
   "outputs": [
    {
     "data": {
      "text/plain": [
       "array([[ 1.04088597, -0.09403473, -0.42084395, -0.55198856, -0.12109755],\n",
       "       [ 0.19014136,  0.51213739,  0.13153847, -0.33161712, -1.63238628],\n",
       "       [ 0.61911407, -0.99257378, -0.16134639,  1.19240433,  0.25073655],\n",
       "       [-0.81361625,  0.70362363, -0.26814214, -0.48255948,  1.24461048]])"
      ]
     },
     "execution_count": 64,
     "metadata": {},
     "output_type": "execute_result"
    },
    {
     "data": {
      "text/plain": [
       "array([[ 0.67686012,  3.18750269, -1.08056475,  0.0102293 ],\n",
       "       [ 0.43782968,  1.32778762, -0.25114503,  1.59311063],\n",
       "       [ 0.17081771, -0.7092539 , -0.13302459, -0.01735694]])"
      ]
     },
     "execution_count": 64,
     "metadata": {},
     "output_type": "execute_result"
    }
   ],
   "source": [
    "np.random.normal(size=(4,5))\n",
    "np.random.randn(3,4)"
   ]
  },
  {
   "cell_type": "markdown",
   "id": "f837ce90",
   "metadata": {},
   "source": [
    "## np.random.choice(a,size,replace=True:False,p)\n",
    "- 배열로 부터 임의 표본 추출(random sampling)\n",
    "- replace = 복원 추출(True) : 비복원추출(False)"
   ]
  },
  {
   "cell_type": "code",
   "execution_count": 69,
   "id": "99e67c07",
   "metadata": {},
   "outputs": [
    {
     "name": "stderr",
     "output_type": "stream",
     "text": [
      "'[]'은(는) 내부 또는 외부 명령, 실행할 수 있는 프로그램, 또는\n",
      "배치 파일이 아닙니다.\n"
     ]
    }
   ],
   "source": [
    "##그림\n",
    "![](./'choice.png')"
   ]
  },
  {
   "cell_type": "code",
   "execution_count": 71,
   "id": "26fe6f05",
   "metadata": {},
   "outputs": [
    {
     "data": {
      "text/plain": [
       "array([[ 2, 59, 45, 23],\n",
       "       [23, 88, 85, 99],\n",
       "       [31, 60,  3, 49]])"
      ]
     },
     "execution_count": 71,
     "metadata": {},
     "output_type": "execute_result"
    }
   ],
   "source": [
    "# 정수가 주어진 경우, np.arange(해당숫자)로 간주\n",
    "np.random.choice(100, size=(3,4))"
   ]
  },
  {
   "cell_type": "code",
   "execution_count": 72,
   "id": "135db7a5",
   "metadata": {},
   "outputs": [],
   "source": [
    "x = np.array([1,2,3,1.5,2.6,4.9])"
   ]
  },
  {
   "cell_type": "code",
   "execution_count": 73,
   "id": "94e6fbc3",
   "metadata": {},
   "outputs": [
    {
     "data": {
      "text/plain": [
       "array([[2. , 4.9],\n",
       "       [2. , 1. ]])"
      ]
     },
     "execution_count": 73,
     "metadata": {},
     "output_type": "execute_result"
    },
    {
     "data": {
      "text/plain": [
       "array([[1. , 1.5],\n",
       "       [3. , 2.6]])"
      ]
     },
     "execution_count": 73,
     "metadata": {},
     "output_type": "execute_result"
    }
   ],
   "source": [
    "np.random.choice(x, size=(2,2), replace=True) #복원추출\n",
    "np.random.choice(x, size=(2,2), replace=False) #비복원추출"
   ]
  },
  {
   "cell_type": "code",
   "execution_count": 86,
   "id": "65356811",
   "metadata": {},
   "outputs": [
    {
     "data": {
      "text/plain": [
       "array([3, 3, 3])"
      ]
     },
     "execution_count": 86,
     "metadata": {},
     "output_type": "execute_result"
    }
   ],
   "source": [
    "p = [0.1,0,0.3,0.6,0]\n",
    "np.random.choice(5,3,p=p)"
   ]
  },
  {
   "cell_type": "code",
   "execution_count": null,
   "id": "fe41cacc",
   "metadata": {},
   "outputs": [],
   "source": []
  },
  {
   "cell_type": "code",
   "execution_count": null,
   "id": "c3cc3de0",
   "metadata": {},
   "outputs": [],
   "source": []
  },
  {
   "cell_type": "code",
   "execution_count": null,
   "id": "1c94b75a",
   "metadata": {},
   "outputs": [],
   "source": []
  },
  {
   "cell_type": "code",
   "execution_count": null,
   "id": "f064b59d",
   "metadata": {},
   "outputs": [],
   "source": []
  },
  {
   "cell_type": "code",
   "execution_count": null,
   "id": "4456d692",
   "metadata": {},
   "outputs": [],
   "source": []
  },
  {
   "cell_type": "code",
   "execution_count": null,
   "id": "c6026ea4",
   "metadata": {},
   "outputs": [],
   "source": []
  }
 ],
 "metadata": {
  "kernelspec": {
   "display_name": "Python 3",
   "language": "python",
   "name": "python3"
  },
  "language_info": {
   "codemirror_mode": {
    "name": "ipython",
    "version": 3
   },
   "file_extension": ".py",
   "mimetype": "text/x-python",
   "name": "python",
   "nbconvert_exporter": "python",
   "pygments_lexer": "ipython3",
   "version": "3.8.8"
  }
 },
 "nbformat": 4,
 "nbformat_minor": 5
}

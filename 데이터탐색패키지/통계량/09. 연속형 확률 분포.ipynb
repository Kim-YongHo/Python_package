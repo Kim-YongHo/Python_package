{
 "cells": [
  {
   "cell_type": "markdown",
   "id": "8efcea8b",
   "metadata": {},
   "source": [
    "## 대표적인 연속형 확률 분포\n",
    "- 연속형 확률분포\n",
    "    - 정규분포\n",
    "    - t-분포\n",
    "    - 카이제곱분포\n",
    "    - F-분포"
   ]
  },
  {
   "cell_type": "markdown",
   "id": "8972ce18",
   "metadata": {},
   "source": [
    "- 정규분포(normal distribution)\n",
    "    - 대표본 모집단의 합, 평균 추론 시 활용\n",
    "- t-분포\n",
    "    - 소표본 모집단 평균 추론 시 활용\n",
    "    - 선형모형 회귀계수 추론(종속변수 정규분포 가정)시 활용\n",
    "- 카이제곱(χ2)분포\n",
    "    - 모집단 분산 추론 시(데이터 정규분포 가정) 활용\n",
    "    - 카이제곱 검정 시 활용\n",
    "- F-분포\n",
    "    - 두 모집단 분산 차이 비교 시 활용(데이터 정규분포 가정)\n",
    "    - 분산분석 시 활용\n",
    "    - (설명하는 변동/설명하지 못하는 변동)이 F분포를 따름\n"
   ]
  },
  {
   "cell_type": "code",
   "execution_count": 2,
   "id": "223acf86",
   "metadata": {},
   "outputs": [],
   "source": [
    "import numpy as np\n",
    "import matplotlib.pyplot as plt\n",
    "from scipy import stats, integrate\n",
    "from scipy.optimize import minimize_scalar\n",
    "\n",
    "%precision 3\n",
    "%matplotlib inline\n"
   ]
  },
  {
   "cell_type": "code",
   "execution_count": 7,
   "id": "89112505",
   "metadata": {},
   "outputs": [],
   "source": [
    "from IPython.core.interactiveshell import InteractiveShell\n",
    "InteractiveShell.ast_node_interactivity=\"all\"\n"
   ]
  },
  {
   "cell_type": "code",
   "execution_count": 24,
   "id": "b1be2426",
   "metadata": {},
   "outputs": [
    {
     "ename": "SyntaxError",
     "evalue": "invalid syntax (<ipython-input-24-da07c41984b4>, line 36)",
     "output_type": "error",
     "traceback": [
      "\u001b[1;36m  File \u001b[1;32m\"<ipython-input-24-da07c41984b4>\"\u001b[1;36m, line \u001b[1;32m36\u001b[0m\n\u001b[1;33m    ax.plot(xs, [F(x) fax.plot(xs, [f(x) for x in xs],\u001b[0m\n\u001b[1;37m                      ^\u001b[0m\n\u001b[1;31mSyntaxError\u001b[0m\u001b[1;31m:\u001b[0m invalid syntax\n"
     ]
    }
   ],
   "source": [
    "linestyles = ['-', '--', ':']\n",
    "\n",
    "def E(X, g=lambda x: x):\n",
    "    x_range, f = X\n",
    "    def integrand(x):\n",
    "        return g(x) * f(x)\n",
    "    return integrate.quad(integrand, -np.inf, np.inf)[0]\n",
    "\n",
    "def V(X, g=lambda x: x):\n",
    "    x_range, f = X\n",
    "    mean = E(X, g)\n",
    "    def integrand(x):\n",
    "        return (g(x) - mean) ** 2 * f(x)\n",
    "    return integrate.quad(integrand, -np.inf, np.inf)[0]\n",
    "\n",
    "def check_prob(X):\n",
    "    x_range, f = X\n",
    "    f_min = minimize_scalar(f).fun\n",
    "    assert f_min >= 0, 'density function is minus value'\n",
    "    prob_sum = np.round(integrate.quad(f, -np.inf, np.inf)[0], 6)\n",
    "    assert prob_sum == 1, f'sum of probability is {prob_sum}'\n",
    "    print(f'expected vaue {E(X):.3f}')\n",
    "    print(f'variance {V(X):.3f}')\n",
    "    \n",
    "def plot_prob(X, x_min, x_max):\n",
    "    x_range, f = X\n",
    "    def F(x):\n",
    "        return integrate.quad(f, -np.inf, x)[0]\n",
    "\n",
    "    xs = np.linspace(x_min, x_max, 100)\n",
    "\n",
    "    fig = plt.figure(figsize=(10, 6))\n",
    "    ax = fig.add_subplot(111)\n",
    "    ax.plot(xs, [f(x) for x in xs],\n",
    "            label='f(x)', color='gray')\n",
    "    ax.plot(xs, [F(x) fax.plot(xs, [f(x) for x in xs],\n",
    "            label='f(x)', color='gray')\n",
    "    ax.plot(xs, [F(x) for x in xs],\n",
    "            label='F(x)', ls='--', color='gray')\n",
    "\n",
    "    ax.legend()\n",
    "    plt.show()\n",
    "\n"
   ]
  },
  {
   "cell_type": "code",
   "execution_count": 10,
   "id": "44c8ea54",
   "metadata": {},
   "outputs": [],
   "source": [
    "linestyles = ['-', '--', ':']\n",
    "\n",
    "def E(X, g=lambda x: x):\n",
    "    x_range, f = X\n",
    "    def integrand(x):\n",
    "        return g(x) * f(x)\n",
    "    return integrate.quad(integrand, -np.inf, np.inf)[0]\n",
    "\n",
    "def V(X, g=lambda x: x):\n",
    "    x_range, f = X\n",
    "    mean = E(X, g)\n",
    "    def integrand(x):\n",
    "        return (g(x) - mean) ** 2 * f(x)\n",
    "    return integrate.quad(integrand, -np.inf, np.inf)[0]\n",
    "\n",
    "def check_prob(X):\n",
    "    x_range, f = X\n",
    "    f_min = minimize_scalar(f).fun\n",
    "    assert f_min >= 0, 'density function is minus value'\n",
    "    prob_sum = np.round(integrate.quad(f, -np.inf, np.inf)[0], 6)\n",
    "    assert prob_sum == 1, f'sum of probability is {prob_sum}'\n",
    "    print(f'expected vaue {E(X):.3f}')\n",
    "    print(f'variance {V(X):.3f}')\n",
    "    \n",
    "def plot_prob(X, x_min, x_max):\n",
    "    x_range, f = X\n",
    "    def F(x):\n",
    "        return integrate.quad(f, -np.inf, x)[0]\n",
    "\n",
    "    xs = np.linspace(x_min, x_max, 100)\n",
    "\n",
    "    fig = plt.figure(figsize=(10, 6))\n",
    "    ax = fig.add_subplot(111)\n",
    "    ax.plot(xs, [f(x) for x in xs],\n",
    "            label='f(x)', color='gray')\n",
    "    ax.plot(xs, [F(x) for x in xs],\n",
    "            label='F(x)', ls='--', color='gray')\n",
    "\n",
    "    ax.legend()\n",
    "    plt.show()\n"
   ]
  },
  {
   "cell_type": "markdown",
   "id": "95081933",
   "metadata": {},
   "source": [
    "## 정규분포\n",
    "- 가장 대표적인 분포\n",
    "- 가우시안(Gaussian) 분포라고도 불리움\n",
    "- 연속형 확률변수에 대한 분포\n",
    "- 평균(μ)과 표준편차(σ)로 모양이 결정\n",
    "- 좌우대칭, 종모양\n",
    "- 평균 = 중앙값 = 최빈값\n",
    "- 자연계, 사회현상에 많이 나타남\n",
    "\n",
    "![](../picture/정규종.png)"
   ]
  },
  {
   "cell_type": "markdown",
   "id": "3675e2dc",
   "metadata": {},
   "source": [
    "![](../picture/정규비교.png)"
   ]
  },
  {
   "cell_type": "markdown",
   "id": "d31496ba",
   "metadata": {},
   "source": [
    "## 정규분포의 확률밀도 함수 f(x)\n",
    "![](../picture/정규수식.png)\n"
   ]
  },
  {
   "cell_type": "markdown",
   "id": "141ed1e3",
   "metadata": {},
   "source": [
    "- 확률밀도 함수\n",
    "![](../picture/정규밀도.png)"
   ]
  },
  {
   "cell_type": "code",
   "execution_count": 28,
   "id": "6ba786cd",
   "metadata": {},
   "outputs": [],
   "source": [
    "def N(mu, sigma): # mu: 평균, sigma: 표준펴차\n",
    "    x_range = [-np.inf, np.inf]\n",
    "    \n",
    "    def f(x):\n",
    "        return 1/np.sqrt(2*np.pi*sigma**2)*np.exp(-(x-mu)**2/(2*sigma**2))\n",
    "    \n",
    "    return x_range,f"
   ]
  },
  {
   "cell_type": "code",
   "execution_count": 29,
   "id": "5873ac73",
   "metadata": {},
   "outputs": [],
   "source": [
    "# 평균이 2이고 편차가 0.5인 정규분포를 따르는  확률변수 X정의\n",
    "mu = 2\n",
    "sigma = 0.5\n",
    "X = N(mu,sigma)"
   ]
  },
  {
   "cell_type": "code",
   "execution_count": 35,
   "id": "1113017c",
   "metadata": {},
   "outputs": [
    {
     "name": "stdout",
     "output_type": "stream",
     "text": [
      "expected vaue 2.000\n",
      "variance 0.250\n"
     ]
    }
   ],
   "source": [
    "# 기대값과 분산을 출력해줌\n",
    "check_prob(X)"
   ]
  },
  {
   "cell_type": "code",
   "execution_count": 39,
   "id": "180d38da",
   "metadata": {},
   "outputs": [
    {
     "data": {
      "image/png": "[encoded data removed]",
      "text/plain": [
       "<Figure size 720x432 with 1 Axes>"
      ]
     },
     "metadata": {
      "needs_background": "light"
     },
     "output_type": "display_data"
    }
   ],
   "source": [
    "plot_prob(X,0,4)"
   ]
  },
  {
   "cell_type": "markdown",
   "id": "ae96e382",
   "metadata": {},
   "source": [
    "- 남자 고등학생이  키의 평균이 170cm이고 표준편차가 5cm라면 우연히 만난 남자 고등학생의 키는 N(170,5^2)를 따른다고 할수 있음\n",
    "- 남자 고등학생의 키 ~ N(170,5^2)\n",
    "- 이 사실을 바탕으로 우연히 만남 남자 고등학생의 키가 165이상 175cm 이하일 확률\n",
    "![](../picture/정규고등학생.png)"
   ]
  },
  {
   "cell_type": "code",
   "execution_count": 43,
   "id": "2b7eec14",
   "metadata": {},
   "outputs": [
    {
     "data": {
      "text/plain": [
       "0.682689"
      ]
     },
     "execution_count": 43,
     "metadata": {},
     "output_type": "execute_result"
    }
   ],
   "source": [
    "mu, sigma = 170, 5\n",
    "X = N(mu,sigma)\n",
    "\n",
    "x_range, f = X\n",
    "\n",
    "np.round(integrate.quad(f,165,175)[0],6)"
   ]
  },
  {
   "cell_type": "code",
   "execution_count": null,
   "id": "5dc29b87",
   "metadata": {},
   "outputs": [],
   "source": []
  },
  {
   "cell_type": "code",
   "execution_count": null,
   "id": "1ea4aee8",
   "metadata": {},
   "outputs": [],
   "source": []
  },
  {
   "cell_type": "code",
   "execution_count": null,
   "id": "c991b447",
   "metadata": {},
   "outputs": [],
   "source": []
  },
  {
   "cell_type": "code",
   "execution_count": null,
   "id": "8a1f693c",
   "metadata": {},
   "outputs": [],
   "source": []
  },
  {
   "cell_type": "code",
   "execution_count": null,
   "id": "b2d9a380",
   "metadata": {},
   "outputs": [],
   "source": []
  },
  {
   "cell_type": "code",
   "execution_count": null,
   "id": "e9143380",
   "metadata": {},
   "outputs": [],
   "source": []
  },
  {
   "cell_type": "code",
   "execution_count": null,
   "id": "31399999",
   "metadata": {},
   "outputs": [],
   "source": []
  },
  {
   "cell_type": "code",
   "execution_count": null,
   "id": "706d8ec0",
   "metadata": {},
   "outputs": [],
   "source": []
  },
  {
   "cell_type": "code",
   "execution_count": null,
   "id": "57f12374",
   "metadata": {},
   "outputs": [],
   "source": []
  },
  {
   "cell_type": "code",
   "execution_count": null,
   "id": "a66607f2",
   "metadata": {},
   "outputs": [],
   "source": []
  },
  {
   "cell_type": "code",
   "execution_count": null,
   "id": "31c67c5d",
   "metadata": {},
   "outputs": [],
   "source": []
  },
  {
   "cell_type": "code",
   "execution_count": null,
   "id": "4a523b41",
   "metadata": {},
   "outputs": [],
   "source": []
  },
  {
   "cell_type": "code",
   "execution_count": null,
   "id": "61de6225",
   "metadata": {},
   "outputs": [],
   "source": []
  },
  {
   "cell_type": "code",
   "execution_count": null,
   "id": "fcf6c97d",
   "metadata": {},
   "outputs": [],
   "source": []
  },
  {
   "cell_type": "code",
   "execution_count": null,
   "id": "77803491",
   "metadata": {},
   "outputs": [],
   "source": []
  },
  {
   "cell_type": "code",
   "execution_count": null,
   "id": "87536439",
   "metadata": {},
   "outputs": [],
   "source": []
  },
  {
   "cell_type": "code",
   "execution_count": null,
   "id": "eb325a5a",
   "metadata": {},
   "outputs": [],
   "source": []
  },
  {
   "cell_type": "code",
   "execution_count": null,
   "id": "51ea6273",
   "metadata": {},
   "outputs": [],
   "source": []
  },
  {
   "cell_type": "code",
   "execution_count": null,
   "id": "7fbbca83",
   "metadata": {},
   "outputs": [],
   "source": []
  },
  {
   "cell_type": "code",
   "execution_count": null,
   "id": "8fc26f5e",
   "metadata": {},
   "outputs": [],
   "source": []
  },
  {
   "cell_type": "code",
   "execution_count": null,
   "id": "e41da661",
   "metadata": {},
   "outputs": [],
   "source": []
  },
  {
   "cell_type": "code",
   "execution_count": null,
   "id": "03cf06dc",
   "metadata": {},
   "outputs": [],
   "source": []
  },
  {
   "cell_type": "code",
   "execution_count": null,
   "id": "f04dda7b",
   "metadata": {},
   "outputs": [],
   "source": []
  }
 ],
 "metadata": {
  "kernelspec": {
   "display_name": "Python 3",
   "language": "python",
   "name": "python3"
  },
  "language_info": {
   "codemirror_mode": {
    "name": "ipython",
    "version": 3
   },
   "file_extension": ".py",
   "mimetype": "text/x-python",
   "name": "python",
   "nbconvert_exporter": "python",
   "pygments_lexer": "ipython3",
   "version": "3.8.8"
  }
 },
 "nbformat": 4,
 "nbformat_minor": 5
}

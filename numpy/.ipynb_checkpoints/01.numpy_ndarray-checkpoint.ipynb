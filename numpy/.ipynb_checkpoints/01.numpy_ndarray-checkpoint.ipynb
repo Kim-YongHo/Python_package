{
 "cells": [
  {
   "cell_type": "code",
   "execution_count": 1,
   "id": "f4d94dcf",
   "metadata": {},
   "outputs": [],
   "source": [
    "import numpy as np\n",
    "import matplotlib.pyplot as plt"
   ]
  },
  {
   "cell_type": "code",
   "execution_count": 2,
   "id": "0ad9f66d",
   "metadata": {},
   "outputs": [],
   "source": [
    "# 콘솔에서 모든 출력 허용하기\n",
    "from IPython.core.interactiveshell import InteractiveShell\n",
    "InteractiveShell.ast_node_interactivity=\"all\""
   ]
  },
  {
   "cell_type": "markdown",
   "id": "3062689d",
   "metadata": {},
   "source": [
    "## array\n",
    "- 많은 숫자 데이터를 하나의 변수에 넣고 관리 할 때 리스트는 속도가 느리고 메모리를 많이 차지하는 것이 단점\n",
    "- 배열(array)을 사용하면 적은 메모리로 많은 데이터를 빠르게 처리 가능 \n",
    "- 배열은 리스트와 비슷하지만 다음과 같은 점에서 다르다.\n",
    "\n",
    "    - 배열은 모든 원소가 같은 자료형으로 동일\n",
    "\n",
    "    - 배열은 지정한 원소의 갯수를 바꿀 수 없음\n",
    "\n",
    "- numpy의 array 함수에 리스트를 넣으면 ndarray 클래스 객체 즉, 배열로 변환됨 \n",
    "- np.array([값1, 값2, ...])\n"
   ]
  },
  {
   "cell_type": "code",
   "execution_count": 5,
   "id": "227a77ac",
   "metadata": {},
   "outputs": [
    {
     "name": "stdout",
     "output_type": "stream",
     "text": [
      "[1 2 3] <class 'numpy.ndarray'>\n",
      "[4 5 6] <class 'numpy.ndarray'>\n"
     ]
    }
   ],
   "source": [
    "x=np.array([1,2,3])\n",
    "y=np.array([4,5,6])\n",
    "\n",
    "print(x,type(x))\n",
    "print(y,type(y))"
   ]
  },
  {
   "cell_type": "code",
   "execution_count": 6,
   "id": "0e578fad",
   "metadata": {},
   "outputs": [
    {
     "data": {
      "text/plain": [
       "[<matplotlib.lines.Line2D at 0x1a2f8abfa30>]"
      ]
     },
     "execution_count": 6,
     "metadata": {},
     "output_type": "execute_result"
    },
    {
     "data": {
      "image/png": "[encoded data removed]",
      "text/plain": [
       "<Figure size 432x288 with 1 Axes>"
      ]
     },
     "metadata": {
      "needs_background": "light"
     },
     "output_type": "display_data"
    }
   ],
   "source": [
    "plt.plot(x,y)"
   ]
  },
  {
   "cell_type": "markdown",
   "id": "6d3528a1",
   "metadata": {},
   "source": [
    "## 다양한 방법으로 Darray 생성\n",
    "1. np.array() \n",
    "2. np.arange() \n",
    "3. np.ones(), np.zero()\n",
    "4. np.empty(), np.full()\n",
    "5. np.eye(n, k=m)\n",
    "6. np.linspace()"
   ]
  },
  {
   "cell_type": "markdown",
   "id": "b41895eb",
   "metadata": {},
   "source": [
    "## 1. np.array()"
   ]
  },
  {
   "cell_type": "code",
   "execution_count": 9,
   "id": "60f4277d",
   "metadata": {},
   "outputs": [
    {
     "name": "stdout",
     "output_type": "stream",
     "text": [
      "[1 2 3 4]\n"
     ]
    }
   ],
   "source": [
    "x = np.array([1,2,3,4])\n",
    "print(x)"
   ]
  },
  {
   "cell_type": "code",
   "execution_count": 10,
   "id": "3a167467",
   "metadata": {},
   "outputs": [
    {
     "name": "stdout",
     "output_type": "stream",
     "text": [
      "[[1 2 3 4]\n",
      " [5 6 7 8]]\n",
      "[[1 2 3 4]\n",
      " [5 6 7 8]] <class 'numpy.ndarray'>\n"
     ]
    }
   ],
   "source": [
    "y = np.array([[1,2,3,4],[5,6,7,8]])\n",
    "print(y)\n",
    "print(y,type(y))"
   ]
  },
  {
   "cell_type": "markdown",
   "id": "f745858b",
   "metadata": {},
   "source": [
    "## 2. np.arange() "
   ]
  },
  {
   "cell_type": "code",
   "execution_count": 12,
   "id": "db193646",
   "metadata": {},
   "outputs": [
    {
     "data": {
      "text/plain": [
       "array([0, 1, 2, 3, 4, 5, 6, 7, 8, 9])"
      ]
     },
     "execution_count": 12,
     "metadata": {},
     "output_type": "execute_result"
    }
   ],
   "source": [
    "np.arange(10)"
   ]
  },
  {
   "cell_type": "code",
   "execution_count": 13,
   "id": "91ab4642",
   "metadata": {},
   "outputs": [
    {
     "data": {
      "text/plain": [
       "array([1, 2, 3, 4, 5, 6, 7, 8, 9])"
      ]
     },
     "execution_count": 13,
     "metadata": {},
     "output_type": "execute_result"
    }
   ],
   "source": [
    "np.arange(1,10)"
   ]
  },
  {
   "cell_type": "code",
   "execution_count": 14,
   "id": "19be37fb",
   "metadata": {},
   "outputs": [
    {
     "data": {
      "text/plain": [
       "array([1, 3, 5, 7, 9])"
      ]
     },
     "execution_count": 14,
     "metadata": {},
     "output_type": "execute_result"
    },
    {
     "data": {
      "text/plain": [
       "array([  5,  10,  15,  20,  25,  30,  35,  40,  45,  50,  55,  60,  65,\n",
       "        70,  75,  80,  85,  90,  95, 100])"
      ]
     },
     "execution_count": 14,
     "metadata": {},
     "output_type": "execute_result"
    }
   ],
   "source": [
    "np.arange(1,10,2)\n",
    "np.arange(5,101,5)"
   ]
  },
  {
   "cell_type": "markdown",
   "id": "fbbc3bab",
   "metadata": {},
   "source": [
    "## 3. np.ones(), np.zero()"
   ]
  },
  {
   "cell_type": "code",
   "execution_count": 16,
   "id": "103e81e2",
   "metadata": {},
   "outputs": [
    {
     "data": {
      "text/plain": [
       "array([1., 1., 1., 1.])"
      ]
     },
     "execution_count": 16,
     "metadata": {},
     "output_type": "execute_result"
    },
    {
     "data": {
      "text/plain": [
       "array([0., 0., 0., 0., 0., 0.])"
      ]
     },
     "execution_count": 16,
     "metadata": {},
     "output_type": "execute_result"
    }
   ],
   "source": [
    "np.ones(4) #array의 언소값을 1로 초기화\n",
    "np.zeros(6) #array의 언소값을 0으로 초기화"
   ]
  },
  {
   "cell_type": "code",
   "execution_count": 17,
   "id": "ca2028c8",
   "metadata": {},
   "outputs": [
    {
     "data": {
      "text/plain": [
       "array([[0., 0., 0., 0., 0.],\n",
       "       [0., 0., 0., 0., 0.]])"
      ]
     },
     "execution_count": 17,
     "metadata": {},
     "output_type": "execute_result"
    }
   ],
   "source": [
    "np.zeros((2,5))"
   ]
  },
  {
   "cell_type": "markdown",
   "id": "28a450b6",
   "metadata": {},
   "source": [
    "## 4. np.empty(), np.full()\n",
    "\n",
    "- np.empty([행,열], dtype=배열타입)\n",
    "    - numpy.empty 함수는 (값의 초기화를 수행하지 않고) 주어진 형태와 타입을 갖는 새로운 arrayfmf 반환\n",
    "    - 초기화되지 않으므로 수행 속도는 빠름 (추후에 값을 정의해줘야 함)\n",
    "\n",
    "- np.full((행,열), 기입할 값)\n"
   ]
  },
  {
   "cell_type": "code",
   "execution_count": 20,
   "id": "02bb34b4",
   "metadata": {},
   "outputs": [
    {
     "data": {
      "text/plain": [
       "array([[1., 1.],\n",
       "       [1., 1.]])"
      ]
     },
     "execution_count": 20,
     "metadata": {},
     "output_type": "execute_result"
    },
    {
     "data": {
      "text/plain": [
       "array([[         0, 2146435072],\n",
       "       [         0, 2146435072]])"
      ]
     },
     "execution_count": 20,
     "metadata": {},
     "output_type": "execute_result"
    }
   ],
   "source": [
    "a = np.empty([2,2])\n",
    "b = np.empty([2,2], dtype=int)\n",
    "a\n",
    "b"
   ]
  },
  {
   "cell_type": "code",
   "execution_count": 22,
   "id": "96fccf87",
   "metadata": {},
   "outputs": [
    {
     "data": {
      "text/plain": [
       "array([[7, 7, 7, 7, 7],\n",
       "       [7, 7, 7, 7, 7],\n",
       "       [7, 7, 7, 7, 7]])"
      ]
     },
     "execution_count": 22,
     "metadata": {},
     "output_type": "execute_result"
    }
   ],
   "source": [
    "a = np.full((3,5), 7)\n",
    "a"
   ]
  },
  {
   "cell_type": "markdown",
   "id": "c6bc10ed",
   "metadata": {},
   "source": [
    "## 5. np.eye(n, k=m)로 생성하기\n",
    "- 단위 행렬 생성 : 대각선이 1, 나머지는 0으로 채워지는 행렬\n",
    "- n: 행,렬 / k= 0 or 1 or -1"
   ]
  },
  {
   "cell_type": "code",
   "execution_count": 23,
   "id": "886e07cd",
   "metadata": {},
   "outputs": [
    {
     "data": {
      "text/plain": [
       "array([[1., 0., 0.],\n",
       "       [0., 1., 0.],\n",
       "       [0., 0., 1.]])"
      ]
     },
     "execution_count": 23,
     "metadata": {},
     "output_type": "execute_result"
    },
    {
     "data": {
      "text/plain": [
       "array([[0., 1., 0.],\n",
       "       [0., 0., 1.],\n",
       "       [0., 0., 0.]])"
      ]
     },
     "execution_count": 23,
     "metadata": {},
     "output_type": "execute_result"
    },
    {
     "data": {
      "text/plain": [
       "array([[0., 0., 1.],\n",
       "       [0., 0., 0.],\n",
       "       [0., 0., 0.]])"
      ]
     },
     "execution_count": 23,
     "metadata": {},
     "output_type": "execute_result"
    },
    {
     "data": {
      "text/plain": [
       "array([[0., 0., 0.],\n",
       "       [1., 0., 0.],\n",
       "       [0., 1., 0.]])"
      ]
     },
     "execution_count": 23,
     "metadata": {},
     "output_type": "execute_result"
    }
   ],
   "source": [
    "np.eye(3) #k=0\n",
    "np.eye(3,k=1) #k=1 #위로 한칸\n",
    "np.eye(3,k=2) #k=1 #위로 두칸\n",
    "np.eye(3,k=-1) #k=-1"
   ]
  },
  {
   "cell_type": "markdown",
   "id": "38760a44",
   "metadata": {},
   "source": [
    "## 6. np.linspace\n",
    "- numpy.linspace(start, stop, num=50)\n",
    "- 지정된 간격 동안 균일한 간격의 숫자를 반환\n",
    "- 반환 num 구간 [위에 계산 균등 샘플 start, stop]"
   ]
  },
  {
   "cell_type": "code",
   "execution_count": 25,
   "id": "48767995",
   "metadata": {},
   "outputs": [
    {
     "data": {
      "text/plain": [
       "array([ 1. ,  5.5, 10. ])"
      ]
     },
     "execution_count": 25,
     "metadata": {},
     "output_type": "execute_result"
    },
    {
     "data": {
      "text/plain": [
       "array([ 1.,  4.,  7., 10.])"
      ]
     },
     "execution_count": 25,
     "metadata": {},
     "output_type": "execute_result"
    },
    {
     "data": {
      "text/plain": [
       "array([ 2.,  4.,  6.,  8., 10.])"
      ]
     },
     "execution_count": 25,
     "metadata": {},
     "output_type": "execute_result"
    }
   ],
   "source": [
    "np.linspace(1,10,3)\n",
    "np.linspace(1,10,4)\n",
    "np.linspace(2,10,5)"
   ]
  },
  {
   "cell_type": "markdown",
   "id": "08fbbed2",
   "metadata": {},
   "source": [
    "## reshape 함수\n",
    "- ndarray의 형태, 차원을 바꾸기 위해 사용"
   ]
  },
  {
   "cell_type": "code",
   "execution_count": 30,
   "id": "57e3b54c",
   "metadata": {},
   "outputs": [
    {
     "data": {
      "text/plain": [
       "array([ 1,  2,  3,  4,  5,  6,  7,  8,  9, 10, 11, 12, 13, 14, 15])"
      ]
     },
     "execution_count": 30,
     "metadata": {},
     "output_type": "execute_result"
    },
    {
     "data": {
      "text/plain": [
       "array([[ 1,  2,  3,  4,  5],\n",
       "       [ 6,  7,  8,  9, 10],\n",
       "       [11, 12, 13, 14, 15]])"
      ]
     },
     "execution_count": 30,
     "metadata": {},
     "output_type": "execute_result"
    }
   ],
   "source": [
    "x = np.arange(1,16)\n",
    "x\n",
    "x.reshape(3,5)"
   ]
  },
  {
   "cell_type": "markdown",
   "id": "2f2b656c",
   "metadata": {},
   "source": [
    "## random 서브 모듈 함수를 통해 ndarray 생성"
   ]
  },
  {
   "cell_type": "markdown",
   "id": "74e4bcee",
   "metadata": {},
   "source": [
    "## random 서브 모듈\n",
    "- rand 함수\n",
    "    - 0,1 사이의 분포로 random한 ndarray 생성"
   ]
  },
  {
   "cell_type": "code",
   "execution_count": 31,
   "id": "259a4322",
   "metadata": {},
   "outputs": [
    {
     "data": {
      "text/plain": [
       "array([0.02714499, 0.83099241, 0.51427185, 0.96957573])"
      ]
     },
     "execution_count": 31,
     "metadata": {},
     "output_type": "execute_result"
    },
    {
     "data": {
      "text/plain": [
       "array([[0.42204877, 0.55796428, 0.31641289, 0.40078123, 0.75558378],\n",
       "       [0.19814404, 0.89014733, 0.71133707, 0.1945475 , 0.34738006],\n",
       "       [0.16342813, 0.09524035, 0.45203152, 0.00387711, 0.84058546],\n",
       "       [0.27559982, 0.87632413, 0.18646554, 0.81466784, 0.68399947]])"
      ]
     },
     "execution_count": 31,
     "metadata": {},
     "output_type": "execute_result"
    },
    {
     "data": {
      "text/plain": [
       "array([[[0.04274946, 0.80650425, 0.84178612],\n",
       "        [0.85532984, 0.57574889, 0.55357919],\n",
       "        [0.05330944, 0.32420628, 0.07482637],\n",
       "        [0.55735556, 0.74187822, 0.87931766],\n",
       "        [0.05906694, 0.28459417, 0.00785137]],\n",
       "\n",
       "       [[0.49721751, 0.9154542 , 0.09909102],\n",
       "        [0.48964404, 0.11887927, 0.62426477],\n",
       "        [0.4395225 , 0.66337388, 0.12749414],\n",
       "        [0.53176413, 0.55940626, 0.74145039],\n",
       "        [0.70007823, 0.34350765, 0.51738771]],\n",
       "\n",
       "       [[0.81590804, 0.30481146, 0.22752693],\n",
       "        [0.47531753, 0.0982144 , 0.04461905],\n",
       "        [0.74605324, 0.62776749, 0.13812019],\n",
       "        [0.80097045, 0.19020318, 0.25628188],\n",
       "        [0.85206017, 0.84668772, 0.55998817]],\n",
       "\n",
       "       [[0.62217344, 0.29046662, 0.48552081],\n",
       "        [0.88557528, 0.11667754, 0.95888478],\n",
       "        [0.02503035, 0.4613814 , 0.29389975],\n",
       "        [0.44428555, 0.61486588, 0.13035016],\n",
       "        [0.10142112, 0.98454838, 0.40032121]]])"
      ]
     },
     "execution_count": 31,
     "metadata": {},
     "output_type": "execute_result"
    }
   ],
   "source": [
    "np.random.rand(4)\n",
    "np.random.rand(4,5) #4*5 행렬\n",
    "np.random.rand(4,5,3) # (5행 3열) *4개 표현"
   ]
  },
  {
   "cell_type": "code",
   "execution_count": 32,
   "id": "e718bc56",
   "metadata": {},
   "outputs": [
    {
     "data": {
      "text/plain": [
       "array([[[0.43941807, 0.0789941 , 0.56421221],\n",
       "        [0.46413473, 0.81824976, 0.29357659],\n",
       "        [0.16202751, 0.41781503, 0.03723279],\n",
       "        [0.65479021, 0.73149676, 0.97580685],\n",
       "        [0.11329353, 0.12921434, 0.06159182]],\n",
       "\n",
       "       [[0.66326169, 0.54866539, 0.1032709 ],\n",
       "        [0.17756169, 0.83781998, 0.12912795],\n",
       "        [0.97994931, 0.83463019, 0.42776883],\n",
       "        [0.52500867, 0.5654982 , 0.3933832 ],\n",
       "        [0.14705588, 0.31000173, 0.20578525]],\n",
       "\n",
       "       [[0.25303029, 0.36273593, 0.73551346],\n",
       "        [0.68224035, 0.02823482, 0.13681534],\n",
       "        [0.03559242, 0.4870849 , 0.98269388],\n",
       "        [0.77532843, 0.15386566, 0.80118384],\n",
       "        [0.87260965, 0.3396826 , 0.54802025]],\n",
       "\n",
       "       [[0.83621014, 0.33357574, 0.55536061],\n",
       "        [0.85262792, 0.58587835, 0.01347022],\n",
       "        [0.57050539, 0.38142003, 0.55057898],\n",
       "        [0.42223833, 0.33093129, 0.74370449],\n",
       "        [0.83709919, 0.34513136, 0.81434509]]])"
      ]
     },
     "execution_count": 32,
     "metadata": {},
     "output_type": "execute_result"
    },
    {
     "data": {
      "text/plain": [
       "array([[0.43941807, 0.0789941 , 0.56421221],\n",
       "       [0.46413473, 0.81824976, 0.29357659],\n",
       "       [0.16202751, 0.41781503, 0.03723279],\n",
       "       [0.65479021, 0.73149676, 0.97580685],\n",
       "       [0.11329353, 0.12921434, 0.06159182]])"
      ]
     },
     "execution_count": 32,
     "metadata": {},
     "output_type": "execute_result"
    }
   ],
   "source": [
    "a = np.random.rand(4,5,3)\n",
    "a\n",
    "a[0]"
   ]
  },
  {
   "cell_type": "markdown",
   "id": "28930f7f",
   "metadata": {},
   "source": [
    "## randn 함수\n",
    "- n : normal distribution(정규분포)\n",
    "- 정규분포로 샘플링된 데이터"
   ]
  },
  {
   "cell_type": "code",
   "execution_count": 34,
   "id": "940fc354",
   "metadata": {},
   "outputs": [
    {
     "data": {
      "text/plain": [
       "-0.3291339704943286"
      ]
     },
     "execution_count": 34,
     "metadata": {},
     "output_type": "execute_result"
    },
    {
     "data": {
      "text/plain": [
       "array([-0.33523271, -0.30415792,  0.235989  ,  1.42505137, -0.59807588])"
      ]
     },
     "execution_count": 34,
     "metadata": {},
     "output_type": "execute_result"
    },
    {
     "data": {
      "text/plain": [
       "array([[ 1.98483536,  0.668959  ,  1.09705717, -1.15794908, -0.81763879],\n",
       "       [ 0.63477061,  1.50334162,  0.47798469, -0.27601381, -0.12830787],\n",
       "       [-0.62173223, -0.24099996,  1.20354432,  0.45135061,  0.61533032]])"
      ]
     },
     "execution_count": 34,
     "metadata": {},
     "output_type": "execute_result"
    },
    {
     "data": {
      "text/plain": [
       "array([[[ 1.79262255, -3.09273277, -0.23878092, -1.12535105,\n",
       "          0.59054427],\n",
       "        [ 0.00918484, -0.57268703,  0.33352999,  0.38150573,\n",
       "         -0.11326016],\n",
       "        [-0.46116462,  0.09026218,  0.52745753, -0.65845527,\n",
       "         -0.19282411]],\n",
       "\n",
       "       [[ 0.13185899,  0.68768145,  0.43031459,  1.40096433,\n",
       "          0.58444114],\n",
       "        [ 1.19131636,  0.84951693, -0.78233787, -0.39556326,\n",
       "          1.58834671],\n",
       "        [ 1.87971131,  2.00239806, -0.3322504 ,  0.0123147 ,\n",
       "          0.63917251]]])"
      ]
     },
     "execution_count": 34,
     "metadata": {},
     "output_type": "execute_result"
    }
   ],
   "source": [
    "np.random.randn()\n",
    "np.random.randn(5)\n",
    "np.random.randn(3,5)\n",
    "np.random.randn(2,3,5)"
   ]
  },
  {
   "cell_type": "markdown",
   "id": "56b1c428",
   "metadata": {},
   "source": [
    "## randint()\n",
    "- 특정 정수 사이에서 램덤하게 샘플링"
   ]
  },
  {
   "cell_type": "code",
   "execution_count": 35,
   "id": "fdc0a2a5",
   "metadata": {},
   "outputs": [
    {
     "data": {
      "text/plain": [
       "array([ 1, 20, 81, 76, 28])"
      ]
     },
     "execution_count": 35,
     "metadata": {},
     "output_type": "execute_result"
    }
   ],
   "source": [
    "np.random.randint(1,100, size=(5,))"
   ]
  },
  {
   "cell_type": "code",
   "execution_count": 36,
   "id": "7414f3f4",
   "metadata": {},
   "outputs": [
    {
     "data": {
      "text/plain": [
       "array([[65, 19, 30],\n",
       "       [36, 10, 37],\n",
       "       [28, 69, 90],\n",
       "       [87, 93, 52],\n",
       "       [81, 44, 29]])"
      ]
     },
     "execution_count": 36,
     "metadata": {},
     "output_type": "execute_result"
    }
   ],
   "source": [
    "np.random.randint(1,100, size=(5,3))"
   ]
  },
  {
   "cell_type": "markdown",
   "id": "59db353e",
   "metadata": {},
   "source": [
    "## seed 함수\n",
    "- 램던한 값을 동일하게 다시 생성하고자 할 때 사용"
   ]
  },
  {
   "cell_type": "code",
   "execution_count": 38,
   "id": "52d91326",
   "metadata": {},
   "outputs": [
    {
     "data": {
      "text/plain": [
       "array([[ 0.66698806,  0.02581308, -0.77761941,  0.94863382],\n",
       "       [ 0.70167179, -1.05108156, -0.36754812, -1.13745969],\n",
       "       [-1.32214752,  1.77225828, -0.34745899,  0.67014016]])"
      ]
     },
     "execution_count": 38,
     "metadata": {},
     "output_type": "execute_result"
    }
   ],
   "source": [
    "np.random.seed(23)\n",
    "np.random.randn(3,4)"
   ]
  },
  {
   "cell_type": "markdown",
   "id": "66719387",
   "metadata": {},
   "source": [
    "## 확률 분포에 따른 ndarray 생성 함수\n",
    "- uniform - 이산형 정규분포\n",
    "- normal - 정규분포\n",
    "- 기타 등등"
   ]
  },
  {
   "cell_type": "code",
   "execution_count": 39,
   "id": "f34498f2",
   "metadata": {},
   "outputs": [
    {
     "data": {
      "text/plain": [
       "array([[2.17916373, 2.95685383, 2.69018764, 1.13015088, 1.58948893],\n",
       "       [1.57586888, 2.64493268, 2.25236608, 1.22095543, 1.00105762],\n",
       "       [2.88433247, 1.28300152, 1.84319305, 1.69297888, 2.73957017],\n",
       "       [1.85720362, 2.65750297, 2.43570368, 1.23845339, 2.19276835]])"
      ]
     },
     "execution_count": 39,
     "metadata": {},
     "output_type": "execute_result"
    }
   ],
   "source": [
    "np.random.uniform(1.0,3.0,size=(4,5))"
   ]
  },
  {
   "cell_type": "code",
   "execution_count": 40,
   "id": "15331fe8",
   "metadata": {},
   "outputs": [
    {
     "data": {
      "text/plain": [
       "array([[-0.13626676,  1.26724821,  0.17363364, -1.22325477,  1.41531998],\n",
       "       [ 0.45771098,  0.72887584,  1.96843473, -0.54778801, -0.67941827],\n",
       "       [-2.50623032,  0.14696049,  0.60619549, -0.02253889,  0.01342226],\n",
       "       [ 0.93594489,  0.42062266,  0.41161964, -0.07132392, -0.04543758]])"
      ]
     },
     "execution_count": 40,
     "metadata": {},
     "output_type": "execute_result"
    },
    {
     "data": {
      "text/plain": [
       "array([[ 1.04088597, -0.09403473, -0.42084395, -0.55198856],\n",
       "       [-0.12109755,  0.19014136,  0.51213739,  0.13153847],\n",
       "       [-0.33161712, -1.63238628,  0.61911407, -0.99257378]])"
      ]
     },
     "execution_count": 40,
     "metadata": {},
     "output_type": "execute_result"
    }
   ],
   "source": [
    "np.random.normal(size=(4,5))\n",
    "np.random.randn(3,4)"
   ]
  },
  {
   "cell_type": "markdown",
   "id": "f837ce90",
   "metadata": {},
   "source": [
    "## np.random.choice(a,size,replace=True:False,p)\n",
    "- 배열로 부터 임의 표본 추출(random sampling)\n",
    "- replace = 복원 추출(True) : 비복원추출(False)"
   ]
  },
  {
   "cell_type": "markdown",
   "id": "124a0693",
   "metadata": {},
   "source": [
    "![](../picture/choice.png)"
   ]
  },
  {
   "cell_type": "code",
   "execution_count": 41,
   "id": "26fe6f05",
   "metadata": {},
   "outputs": [
    {
     "data": {
      "text/plain": [
       "array([[88, 54, 89, 78],\n",
       "       [41, 70, 85,  5],\n",
       "       [ 7,  4, 16,  9]])"
      ]
     },
     "execution_count": 41,
     "metadata": {},
     "output_type": "execute_result"
    }
   ],
   "source": [
    "# 정수가 주어진 경우, np.arange(해당숫자)로 간주\n",
    "np.random.choice(100, size=(3,4))"
   ]
  },
  {
   "cell_type": "code",
   "execution_count": 42,
   "id": "135db7a5",
   "metadata": {},
   "outputs": [],
   "source": [
    "x = np.array([1,2,3,1.5,2.6,4.9])"
   ]
  },
  {
   "cell_type": "code",
   "execution_count": 48,
   "id": "94e6fbc3",
   "metadata": {},
   "outputs": [
    {
     "data": {
      "text/plain": [
       "array([[1.5, 1.5],\n",
       "       [3. , 3. ]])"
      ]
     },
     "execution_count": 48,
     "metadata": {},
     "output_type": "execute_result"
    },
    {
     "data": {
      "text/plain": [
       "array([[2. , 3. ],\n",
       "       [4.9, 2.6]])"
      ]
     },
     "execution_count": 48,
     "metadata": {},
     "output_type": "execute_result"
    }
   ],
   "source": [
    "np.random.choice(x, size=(2,2), replace=True) #복원추출\n",
    "np.random.choice(x, size=(2,2), replace=False) #비복원추출"
   ]
  },
  {
   "cell_type": "code",
   "execution_count": 84,
   "id": "65356811",
   "metadata": {},
   "outputs": [
    {
     "data": {
      "text/plain": [
       "array([3, 3, 3])"
      ]
     },
     "execution_count": 84,
     "metadata": {},
     "output_type": "execute_result"
    }
   ],
   "source": [
    "p = [0.1,0,0.3,0.6,0] ## 다 더하면 1 (0 1 2 3 4)에 대한 확률값\n",
    "np.random.choice(5,3,p=p) # 0~ 5에서 3개 추출 (0,2,3) 중에서 생서"
   ]
  },
  {
   "cell_type": "code",
   "execution_count": null,
   "id": "fe41cacc",
   "metadata": {},
   "outputs": [],
   "source": []
  },
  {
   "cell_type": "code",
   "execution_count": null,
   "id": "c3cc3de0",
   "metadata": {},
   "outputs": [],
   "source": []
  },
  {
   "cell_type": "code",
   "execution_count": null,
   "id": "1c94b75a",
   "metadata": {},
   "outputs": [],
   "source": []
  },
  {
   "cell_type": "code",
   "execution_count": null,
   "id": "f064b59d",
   "metadata": {},
   "outputs": [],
   "source": []
  },
  {
   "cell_type": "code",
   "execution_count": null,
   "id": "4456d692",
   "metadata": {},
   "outputs": [],
   "source": []
  },
  {
   "cell_type": "code",
   "execution_count": null,
   "id": "c6026ea4",
   "metadata": {},
   "outputs": [],
   "source": []
  }
 ],
 "metadata": {
  "kernelspec": {
   "display_name": "Python 3",
   "language": "python",
   "name": "python3"
  },
  "language_info": {
   "codemirror_mode": {
    "name": "ipython",
    "version": 3
   },
   "file_extension": ".py",
   "mimetype": "text/x-python",
   "name": "python",
   "nbconvert_exporter": "python",
   "pygments_lexer": "ipython3",
   "version": "3.8.8"
  }
 },
 "nbformat": 4,
 "nbformat_minor": 5
}

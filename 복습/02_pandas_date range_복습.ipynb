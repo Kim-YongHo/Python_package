{
 "cells": [
  {
   "cell_type": "code",
   "execution_count": 1,
   "id": "2397cbd0",
   "metadata": {},
   "outputs": [],
   "source": [
    "import pandas as pd\n",
    "import numpy as np\n",
    "\n",
    "from IPython.core.interactiveshell import InteractiveShell\n",
    "InteractiveShell.ast_node_interactivity=\"all\""
   ]
  },
  {
   "cell_type": "code",
   "execution_count": 10,
   "id": "ae65917c",
   "metadata": {},
   "outputs": [
    {
     "data": {
      "text/plain": [
       "2018-10-07    과학\n",
       "2018-10-08    수학\n",
       "2018-10-09    국어\n",
       "2018-10-10    영어\n",
       "dtype: object"
      ]
     },
     "execution_count": 10,
     "metadata": {},
     "output_type": "execute_result"
    },
    {
     "data": {
      "text/plain": [
       "str"
      ]
     },
     "execution_count": 10,
     "metadata": {},
     "output_type": "execute_result"
    }
   ],
   "source": [
    "date=['2018-10-07','2018-10-08','2018-10-09','2018-10-10']\n",
    "s=pd.Series(['과학','수학','국어','영어'], index=date)\n",
    "s\n",
    "type(s.index[0])"
   ]
  },
  {
   "cell_type": "code",
   "execution_count": null,
   "id": "29e8baa6",
   "metadata": {},
   "outputs": [],
   "source": []
  },
  {
   "cell_type": "code",
   "execution_count": 11,
   "id": "bde3715b",
   "metadata": {},
   "outputs": [
    {
     "data": {
      "text/plain": [
       "DatetimeIndex(['2018-10-01', '2018-10-02', '2018-10-03', '2018-10-04',\n",
       "               '2018-10-05', '2018-10-06', '2018-10-07', '2018-10-08',\n",
       "               '2018-10-09', '2018-10-10', '2018-10-11', '2018-10-12',\n",
       "               '2018-10-13', '2018-10-14', '2018-10-15', '2018-10-16',\n",
       "               '2018-10-17', '2018-10-18', '2018-10-19', '2018-10-20'],\n",
       "              dtype='datetime64[ns]', freq='D')"
      ]
     },
     "execution_count": 11,
     "metadata": {},
     "output_type": "execute_result"
    }
   ],
   "source": [
    "pd.date_range(start='2018-10-01', end='2018-10-20')"
   ]
  },
  {
   "cell_type": "code",
   "execution_count": 12,
   "id": "4c2d5de6",
   "metadata": {},
   "outputs": [
    {
     "data": {
      "text/plain": [
       "DatetimeIndex(['2018-10-01', '2018-10-02', '2018-10-03', '2018-10-04',\n",
       "               '2018-10-05', '2018-10-06', '2018-10-07', '2018-10-08',\n",
       "               '2018-10-09', '2018-10-10', '2018-10-11', '2018-10-12',\n",
       "               '2018-10-13', '2018-10-14', '2018-10-15', '2018-10-16',\n",
       "               '2018-10-17', '2018-10-18', '2018-10-19', '2018-10-20'],\n",
       "              dtype='datetime64[ns]', freq='D')"
      ]
     },
     "execution_count": 12,
     "metadata": {},
     "output_type": "execute_result"
    }
   ],
   "source": [
    "pd.date_range(start='2018-10-01', end='2018-10-20', freq='d') ##freq 생략시 기본값 ='d' 대소문자 상관없이 인식"
   ]
  },
  {
   "cell_type": "code",
   "execution_count": 13,
   "id": "f6100375",
   "metadata": {},
   "outputs": [
    {
     "data": {
      "text/plain": [
       "DatetimeIndex(['2018-10-01', '2018-10-04', '2018-10-07', '2018-10-10',\n",
       "               '2018-10-13', '2018-10-16', '2018-10-19'],\n",
       "              dtype='datetime64[ns]', freq='3D')"
      ]
     },
     "execution_count": 13,
     "metadata": {},
     "output_type": "execute_result"
    }
   ],
   "source": [
    "pd.date_range(start='2018-10-01', end='2018-10-20', freq ='3d')"
   ]
  },
  {
   "cell_type": "code",
   "execution_count": 14,
   "id": "e7504f11",
   "metadata": {},
   "outputs": [
    {
     "data": {
      "text/plain": [
       "DatetimeIndex(['2018-10-07', '2018-10-14'], dtype='datetime64[ns]', freq='W-SUN')"
      ]
     },
     "execution_count": 14,
     "metadata": {},
     "output_type": "execute_result"
    }
   ],
   "source": [
    "pd.date_range(start='2018-10-01', end='2018-10-20', freq ='w') \n",
    "# 2018-10-1 기준으로 1주일 씩 증가하는 날짜를 생성 - 1주의 시작을 일요일로 표시 (한주 시작은 일요일!)"
   ]
  },
  {
   "cell_type": "code",
   "execution_count": 15,
   "id": "f57752f4",
   "metadata": {},
   "outputs": [
    {
     "data": {
      "text/plain": [
       "DatetimeIndex(['2018-10-07', '2018-10-14', '2018-10-21', '2018-10-28'], dtype='datetime64[ns]', freq='W-SUN')"
      ]
     },
     "execution_count": 15,
     "metadata": {},
     "output_type": "execute_result"
    }
   ],
   "source": [
    "pd.date_range(start='2018-10-07', periods=4, freq ='w') #주기를  기준으로 4개 생성 (한주 시작은 일요일!)"
   ]
  },
  {
   "cell_type": "code",
   "execution_count": 16,
   "id": "80fc0c55",
   "metadata": {},
   "outputs": [
    {
     "data": {
      "text/plain": [
       "DatetimeIndex(['2018-10-31', '2018-11-30', '2018-12-31', '2019-01-31'], dtype='datetime64[ns]', freq='M')"
      ]
     },
     "execution_count": 16,
     "metadata": {},
     "output_type": "execute_result"
    }
   ],
   "source": [
    "pd.date_range(start='2018-10-07', periods=4, freq ='m') \n",
    "#start 날짜를 포함하는 월의 마지막 날짜부터 월단위로 주기를 생성 -4개"
   ]
  },
  {
   "cell_type": "code",
   "execution_count": 17,
   "id": "ea3bd8eb",
   "metadata": {},
   "outputs": [
    {
     "data": {
      "text/plain": [
       "DatetimeIndex(['2018-11-01', '2018-12-01', '2019-01-01', '2019-02-01'], dtype='datetime64[ns]', freq='MS')"
      ]
     },
     "execution_count": 17,
     "metadata": {},
     "output_type": "execute_result"
    }
   ],
   "source": [
    "pd.date_range(start='2018-10-07', periods=4, freq ='MS') #월별 시작일 (소문자 이용X)"
   ]
  },
  {
   "cell_type": "code",
   "execution_count": 18,
   "id": "f9969932",
   "metadata": {},
   "outputs": [
    {
     "data": {
      "text/plain": [
       "DatetimeIndex(['2019-01-01', '2019-04-01', '2019-07-01', '2019-10-01'], dtype='datetime64[ns]', freq='QS-JAN')"
      ]
     },
     "execution_count": 18,
     "metadata": {},
     "output_type": "execute_result"
    }
   ],
   "source": [
    "pd.date_range(start='2018-10-07', periods=4, freq ='QS') ## 분기"
   ]
  },
  {
   "cell_type": "code",
   "execution_count": 19,
   "id": "9715e107",
   "metadata": {},
   "outputs": [
    {
     "data": {
      "text/plain": [
       "DatetimeIndex(['2019-01-01', '2020-01-01', '2021-01-01', '2022-01-01'], dtype='datetime64[ns]', freq='AS-JAN')"
      ]
     },
     "execution_count": 19,
     "metadata": {},
     "output_type": "execute_result"
    }
   ],
   "source": [
    "pd.date_range(start='2018-10-07', periods=4, freq ='AS') # 연도 첫째날을 기준으로 생성 해서 19년 부터 (연도별 시작일)"
   ]
  },
  {
   "cell_type": "code",
   "execution_count": null,
   "id": "c0fabde2",
   "metadata": {},
   "outputs": [],
   "source": []
  }
 ],
 "metadata": {
  "kernelspec": {
   "display_name": "Python 3",
   "language": "python",
   "name": "python3"
  },
  "language_info": {
   "codemirror_mode": {
    "name": "ipython",
    "version": 3
   },
   "file_extension": ".py",
   "mimetype": "text/x-python",
   "name": "python",
   "nbconvert_exporter": "python",
   "pygments_lexer": "ipython3",
   "version": "3.8.8"
  }
 },
 "nbformat": 4,
 "nbformat_minor": 5
}
